{
 "cells": [
  {
   "cell_type": "markdown",
   "metadata": {
    "cell_id": 1,
    "id": "kr9vAeEQlRVG"
   },
   "source": [
    "# Домашнее задание 2. Классификация изображений."
   ]
  },
  {
   "cell_type": "markdown",
   "metadata": {
    "cell_id": 3,
    "id": "BxX49gLclRVJ"
   },
   "source": [
    "В этом задании потребуется обучить классификатор изображений. Будем работать с датасетом, название которого раскрывать не будем. Можете посмотреть самостоятельно на картинки, которые в есть датасете. В нём 200 классов и около 5 тысяч картинок на каждый класс. Классы пронумерованы, как нетрудно догадаться, от 0 до 199. Скачать датасет можно вот [тут](https://yadi.sk/d/BNR41Vu3y0c7qA).\n",
    "\n",
    "Структура датасета простая -- есть директории train/ и val/, в которых лежат обучающие и валидационные данные. В train/ и val/ лежат директориии, соответствующие классам изображений, в которых лежат, собственно, сами изображения.\n",
    " \n",
    "__Задание__. Необходимо выполнить любое из двух заданий\n",
    "\n",
    "1) Добейтесь accuracy **на валидации не менее 0.44**. В этом задании **запрещено** пользоваться предобученными моделями и ресайзом картинок. \n",
    "\n",
    "2) Добейтесь accuracy **на валидации не менее 0.84**. В этом задании делать ресайз и использовать претрейн можно. \n",
    "\n",
    "Напишите краткий отчёт о проделанных экспериментах. Что сработало и что не сработало? Почему вы решили, сделать так, а не иначе? Обязательно указывайте ссылки на чужой код, если вы его используете. Обязательно ссылайтесь на статьи / блогпосты / вопросы на stackoverflow / видосы от ютуберов-машинлернеров / курсы / подсказки от Дяди Васи и прочие дополнительные материалы, если вы их используете. \n",
    "\n",
    "Ваш код обязательно должен проходить все `assert`'ы ниже.\n",
    "\n",
    "Необходимо написать функции `train_one_epoch`, `train` и `predict` по шаблонам ниже (во многом повторяют примеры с семинаров).Обратите особое внимание на функцию `predict`: она должна возвращать список лоссов по всем объектам даталоадера, список предсказанных классов для каждого объекта из даталоалера и список настоящих классов для каждого объекта в даталоадере (и именно в таком порядке).\n",
    "\n",
    "__Использовать внешние данные для обучения строго запрещено в обоих заданиях. Также запрещено обучаться на валидационной выборке__.\n",
    "\n",
    "\n",
    "__Критерии оценки__: Оценка вычисляется по простой формуле: `min(10, 10 * Ваша accuracy / 0.44)` для первого задания и `min(10, 10 * (Ваша accuracy - 0.5) / 0.34)` для второго. Оценка округляется до десятых по арифметическим правилам. Если вы выполнили оба задания, то берется максимум из двух оценок.\n",
    "\n",
    "__Бонус__. Вы получаете 5 бонусных баллов если справляетесь с обоими заданиями на 10 баллов (итого 15 баллов). В противном случае выставляется максимальная из двух оценок и ваш бонус равен нулю.\n",
    "\n",
    "__Советы и указания__:\n",
    " - Наверняка вам потребуется много гуглить о классификации и о том, как заставить её работать. Это нормально, все гуглят. Но не забывайте, что нужно быть готовым за скатанный код отвечать :)\n",
    " - Используйте аугментации. Для этого пользуйтесь модулем `torchvision.transforms` или библиотекой [albumentations](https://github.com/albumentations-team/albumentations)\n",
    " - Можно обучать с нуля или файнтюнить (в зависимости от задания) модели из `torchvision`.\n",
    " - Рекомендуем написать вам сначала класс-датасет (или воспользоваться классом `ImageFolder`), который возвращает картинки и соответствующие им классы, а затем функции для трейна по шаблонам ниже. Однако делать это мы не заставляем. Если вам так неудобно, то можете писать код в удобном стиле. Однако учтите, что чрезмерное изменение нижеперечисленных шаблонов увеличит количество вопросов к вашему коду и повысит вероятность вызова на защиту :)\n",
    " - Валидируйте. Трекайте ошибки как можно раньше, чтобы не тратить время впустую.\n",
    " - Чтобы быстро отладить код, пробуйте обучаться на маленькой части датасета (скажем, 5-10 картинок просто чтобы убедиться что код запускается). Когда вы поняли, что смогли всё отдебажить, переходите обучению по всему датасету\n",
    " - На каждый запуск делайте ровно одно изменение в модели/аугментации/оптимайзере, чтобы понять, что и как влияет на результат.\n",
    " - Фиксируйте random seed.\n",
    " - Начинайте с простых моделей и постепенно переходите к сложным. Обучение лёгких моделей экономит много времени.\n",
    " - Ставьте расписание на learning rate. Уменьшайте его, когда лосс на валидации перестаёт убывать.\n",
    " - Советуем использовать GPU. Если у вас его нет, используйте google colab. Если вам неудобно его использовать на постоянной основе, напишите и отладьте весь код локально на CPU, а затем запустите уже написанный ноутбук в колабе. Авторское решение задания достигает требуемой точности в колабе за 15 минут обучения.\n",
    " \n",
    "Good luck & have fun! :)"
   ]
  },
  {
   "cell_type": "markdown",
   "metadata": {},
   "source": [
    "Данный ноутбук посвящен первой части задания. Используется НЕ предобученная модель, являющаяся модификацией VGG16. В качестве основного источника вдохновения использовались: <br>\n",
    "1) https://learningai.io/projects/2017/06/29/tiny-imagenet.html <br>\n",
    "2) https://arxiv.org/pdf/1409.1556.pdf <br>\n",
    "Модель обучалась на сайте kaggle.com с использованием GPU."
   ]
  },
  {
   "cell_type": "code",
   "execution_count": null,
   "metadata": {},
   "outputs": [],
   "source": [
    "# Обновим библиотеки до самых свежих\n",
    "!pip install torch torchvision torchaudio --upgrade"
   ]
  },
  {
   "cell_type": "code",
   "execution_count": 1,
   "metadata": {
    "cell_id": 4,
    "execution": {
     "iopub.execute_input": "2021-11-22T05:00:45.922051Z",
     "iopub.status.busy": "2021-11-22T05:00:45.921576Z",
     "iopub.status.idle": "2021-11-22T05:00:47.265731Z",
     "shell.execute_reply": "2021-11-22T05:00:47.264974Z",
     "shell.execute_reply.started": "2021-11-22T05:00:45.921971Z"
    },
    "id": "LKcSNj4tlRVK"
   },
   "outputs": [],
   "source": [
    "import numpy as np\n",
    "import torch\n",
    "import torchvision\n",
    "import tqdm\n",
    "import sys\n",
    "import random\n",
    "from torch import nn\n",
    "from torchvision import datasets, transforms\n",
    "import matplotlib.pyplot as plt\n",
    "from sklearn.metrics import accuracy_score\n",
    "import albumentations\n",
    "from albumentations.pytorch import ToTensorV2\n",
    "from tqdm.notebook import tqdm\n",
    "\n",
    "# Заодно попросим матплотлиб отрисовывать старательно\n",
    "%matplotlib inline\n",
    "%config InlineBackend.figure_format=\"retina\""
   ]
  },
  {
   "cell_type": "code",
   "execution_count": 2,
   "metadata": {
    "execution": {
     "iopub.execute_input": "2021-11-22T05:00:47.271100Z",
     "iopub.status.busy": "2021-11-22T05:00:47.270601Z",
     "iopub.status.idle": "2021-11-22T05:00:47.278919Z",
     "shell.execute_reply": "2021-11-22T05:00:47.278134Z",
     "shell.execute_reply.started": "2021-11-22T05:00:47.271064Z"
    }
   },
   "outputs": [
    {
     "data": {
      "text/plain": [
       "'0.11.1+cu102'"
      ]
     },
     "execution_count": 2,
     "metadata": {},
     "output_type": "execute_result"
    }
   ],
   "source": [
    "# Проверим что версия действительно стала свежее\n",
    "torchvision.__version__"
   ]
  },
  {
   "cell_type": "code",
   "execution_count": 3,
   "metadata": {
    "execution": {
     "iopub.execute_input": "2021-11-22T05:00:47.280622Z",
     "iopub.status.busy": "2021-11-22T05:00:47.279945Z",
     "iopub.status.idle": "2021-11-22T05:00:47.293015Z",
     "shell.execute_reply": "2021-11-22T05:00:47.292163Z",
     "shell.execute_reply.started": "2021-11-22T05:00:47.280581Z"
    }
   },
   "outputs": [],
   "source": [
    "# Код из первого дз для уставки сида\n",
    "def set_random_seed(seed):\n",
    "    torch.backends.cudnn.deterministic = True\n",
    "    torch.manual_seed(seed)\n",
    "    torch.cuda.manual_seed(seed)\n",
    "    np.random.seed(seed)\n",
    "    random.seed(seed)"
   ]
  },
  {
   "cell_type": "code",
   "execution_count": 4,
   "metadata": {
    "execution": {
     "iopub.execute_input": "2021-11-22T05:00:47.297522Z",
     "iopub.status.busy": "2021-11-22T05:00:47.297332Z",
     "iopub.status.idle": "2021-11-22T05:00:47.304470Z",
     "shell.execute_reply": "2021-11-22T05:00:47.303727Z",
     "shell.execute_reply.started": "2021-11-22T05:00:47.297500Z"
    }
   },
   "outputs": [],
   "source": [
    "set_random_seed(42)"
   ]
  },
  {
   "cell_type": "code",
   "execution_count": 5,
   "metadata": {
    "execution": {
     "iopub.execute_input": "2021-11-22T05:00:47.306028Z",
     "iopub.status.busy": "2021-11-22T05:00:47.305550Z",
     "iopub.status.idle": "2021-11-22T05:00:47.336828Z",
     "shell.execute_reply": "2021-11-22T05:00:47.336011Z",
     "shell.execute_reply.started": "2021-11-22T05:00:47.305992Z"
    }
   },
   "outputs": [
    {
     "name": "stdout",
     "output_type": "stream",
     "text": [
      "We will use: cuda:0\n",
      "GPU model: Tesla P100-PCIE-16GB\n"
     ]
    }
   ],
   "source": [
    "device = \"cuda:0\" if torch.cuda.is_available() else \"cpu\"\n",
    "print(\"We will use:\", device)\n",
    "try:\n",
    "    # Мне просто интересно :)\n",
    "    print(\"GPU model:\", torch.cuda.get_device_name(0))\n",
    "except:\n",
    "    pass"
   ]
  },
  {
   "cell_type": "markdown",
   "metadata": {
    "id": "RytEDW0ylRVN"
   },
   "source": [
    "### Подготовка данных"
   ]
  },
  {
   "cell_type": "code",
   "execution_count": 6,
   "metadata": {
    "execution": {
     "iopub.execute_input": "2021-11-22T05:00:47.340453Z",
     "iopub.status.busy": "2021-11-22T05:00:47.339911Z",
     "iopub.status.idle": "2021-11-22T05:00:47.347383Z",
     "shell.execute_reply": "2021-11-22T05:00:47.346645Z",
     "shell.execute_reply.started": "2021-11-22T05:00:47.340415Z"
    }
   },
   "outputs": [],
   "source": [
    "# В силу особенностей библиотеки albumentations пришлось сделать такой \"костыль\"\n",
    "class Transformer:\n",
    "    def __init__(self, transforms):\n",
    "        self.transforms = transforms\n",
    "\n",
    "    def __call__(self, img, *args, **kwargs):\n",
    "        return self.transforms(image=np.array(img))[\"image\"]"
   ]
  },
  {
   "cell_type": "code",
   "execution_count": 7,
   "metadata": {
    "execution": {
     "iopub.execute_input": "2021-11-22T05:00:47.348887Z",
     "iopub.status.busy": "2021-11-22T05:00:47.348381Z",
     "iopub.status.idle": "2021-11-22T05:00:47.357006Z",
     "shell.execute_reply": "2021-11-22T05:00:47.356217Z",
     "shell.execute_reply.started": "2021-11-22T05:00:47.348850Z"
    }
   },
   "outputs": [],
   "source": [
    "# В ссылках сверху предлагается ещё изменять сатурацию или оттенки, я так делать не буду, поскольку необходимое качество достигается и без них\n",
    "train_transform = albumentations.Compose(\n",
    "    [\n",
    "        albumentations.RandomCrop(56, 56),\n",
    "        albumentations.Resize(64, 64),\n",
    "        albumentations.HorizontalFlip(p=0.5),\n",
    "        albumentations.augmentations.transforms.Normalize(),\n",
    "        ToTensorV2(),\n",
    "    ]\n",
    ")\n",
    "# Сентер кроп действительно улучшает качество без претрейна, в идеале\n",
    "# Делать несколько кропов и брать majority vote как мне кажется\n",
    "test_transform = albumentations.Compose(\n",
    "     [\n",
    "        albumentations.CenterCrop(56, 56),\n",
    "        albumentations.Resize(64, 64),\n",
    "        albumentations.HorizontalFlip(p=0.5),\n",
    "        albumentations.augmentations.transforms.Normalize(),\n",
    "        ToTensorV2(),\n",
    "    ]\n",
    ")"
   ]
  },
  {
   "cell_type": "code",
   "execution_count": 8,
   "metadata": {
    "execution": {
     "iopub.execute_input": "2021-11-22T05:00:47.358057Z",
     "iopub.status.busy": "2021-11-22T05:00:47.357845Z",
     "iopub.status.idle": "2021-11-22T05:00:48.236393Z",
     "shell.execute_reply": "2021-11-22T05:00:48.235604Z",
     "shell.execute_reply.started": "2021-11-22T05:00:47.358033Z"
    },
    "id": "uSqSsFg4lRVN"
   },
   "outputs": [],
   "source": [
    "# ВАРНУНГ: При перезапуске кода необходимо поменять path, потому что название датасета конкретно у вас скорее всего другое\n",
    "train_path = r\"../input/hwiad2/dataset/dataset/train\"\n",
    "train_dataset = datasets.ImageFolder(train_path, transform=Transformer(train_transform))\n",
    "train_dataloader = torch.utils.data.DataLoader(\n",
    "    train_dataset, batch_size=64, shuffle=True, num_workers=2\n",
    ")\n",
    "test_path = r\"../input/hwiad2/dataset/dataset/val\"\n",
    "test_dataset = datasets.ImageFolder(test_path, transform=Transformer(test_transform))\n",
    "test_dataloader = torch.utils.data.DataLoader(\n",
    "    test_dataset, batch_size=256, shuffle=True, num_workers=2\n",
    ")"
   ]
  },
  {
   "cell_type": "code",
   "execution_count": 9,
   "metadata": {
    "cell_id": 6,
    "execution": {
     "iopub.execute_input": "2021-11-22T05:00:48.239988Z",
     "iopub.status.busy": "2021-11-22T05:00:48.239494Z",
     "iopub.status.idle": "2021-11-22T05:00:48.255238Z",
     "shell.execute_reply": "2021-11-22T05:00:48.254463Z",
     "shell.execute_reply.started": "2021-11-22T05:00:48.239955Z"
    },
    "id": "mrg4Yj0VlRVP"
   },
   "outputs": [
    {
     "name": "stdout",
     "output_type": "stream",
     "text": [
      "tests passed\n"
     ]
    }
   ],
   "source": [
    "# Just very simple sanity checks\n",
    "assert isinstance(train_dataset[0], tuple)\n",
    "assert len(train_dataset[0]) == 2\n",
    "assert isinstance(train_dataset[1][1], int)\n",
    "print(\"tests passed\")"
   ]
  },
  {
   "cell_type": "markdown",
   "metadata": {
    "id": "8RlSlmyjlRVP"
   },
   "source": [
    "### Вспомогательные функции, реализация модели"
   ]
  },
  {
   "cell_type": "code",
   "execution_count": 10,
   "metadata": {
    "cell_id": 7,
    "execution": {
     "iopub.execute_input": "2021-11-22T05:00:48.257370Z",
     "iopub.status.busy": "2021-11-22T05:00:48.256910Z",
     "iopub.status.idle": "2021-11-22T05:00:48.275416Z",
     "shell.execute_reply": "2021-11-22T05:00:48.274729Z",
     "shell.execute_reply.started": "2021-11-22T05:00:48.257332Z"
    },
    "id": "yYG2-Cq8lRVQ"
   },
   "outputs": [],
   "source": [
    "def train_epoch(\n",
    "    model,\n",
    "    data_loader,\n",
    "    optimizer,\n",
    "    criterion,\n",
    "    return_losses=False,\n",
    "    device=\"cuda:0\",\n",
    "):\n",
    "    # Передвинем модель на выбранный ускоритель\n",
    "    model = model.to(device).train()\n",
    "    total_loss = 0\n",
    "    num_batches = 0\n",
    "    all_losses = []\n",
    "    y_true = torch.tensor([], device=device)\n",
    "    y_labels = torch.tensor([], device=device)\n",
    "    with tqdm(total=len(data_loader), file=sys.stdout) as prbar:\n",
    "        for obj, ans in data_loader:\n",
    "            # Туда же закинем объекты и ответы\n",
    "            obj = obj.to(device)\n",
    "            ans = ans.to(device)\n",
    "            y_true = torch.cat((y_true, ans), 0)\n",
    "            predicted = model(obj.float()).squeeze()\n",
    "            loss = criterion(predicted, ans)\n",
    "            # Обновим веса\n",
    "            loss.backward()\n",
    "            optimizer.step()\n",
    "            optimizer.zero_grad()\n",
    "            # Обновим инфу\n",
    "            prbar.set_description(\n",
    "                f\"Current loss: {round(loss.item(), 4)}\"\n",
    "            )\n",
    "            prbar.update(1)\n",
    "            total_loss += loss.item()\n",
    "            all_losses.append(loss.detach().item())\n",
    "            y_pred_softmax = torch.log_softmax(predicted, dim=1)\n",
    "            y_labels = torch.cat((y_labels, y_pred_softmax.argmax(dim=1)), 0)\n",
    "            num_batches += 1\n",
    "    y_true = y_true.to(\"cpu\").numpy()\n",
    "    y_labels = y_labels.to(\"cpu\").numpy()\n",
    "    metrics = {\n",
    "        \"loss\": (total_loss / num_batches),\n",
    "        \"acc\": accuracy_score(y_true, y_labels),\n",
    "    }\n",
    "    if return_losses:\n",
    "        return metrics, all_losses\n",
    "    else:\n",
    "        return metrics\n",
    "\n",
    "\n",
    "def test(model, data_loader, criterion, return_losses=False, device=\"cuda:0\"):\n",
    "    model = model.to(device).eval()\n",
    "    all_losses = []\n",
    "    y_true = torch.tensor([], device=device)\n",
    "    y_labels = torch.tensor([], device=device)\n",
    "    total_loss = 0\n",
    "    num_batches = 0\n",
    "    for obj, ans in data_loader:\n",
    "        obj = obj.to(device)\n",
    "        ans = ans.to(device)\n",
    "        y_true = torch.cat((y_true, ans), 0)\n",
    "        predicted = model(obj.float()).squeeze()\n",
    "        loss = criterion(predicted, ans)\n",
    "        total_loss += loss.item()\n",
    "        all_losses.append(loss.detach().item())\n",
    "        y_pred_softmax = torch.log_softmax(predicted, dim=1)\n",
    "        y_labels = torch.cat((y_labels, y_pred_softmax.argmax(dim=1)), 0)\n",
    "        num_batches += 1\n",
    "    y_true = y_true.to(\"cpu\").numpy()\n",
    "    y_labels = y_labels.to(\"cpu\").numpy()\n",
    "    metrics = {\n",
    "        \"loss\": (total_loss / num_batches),\n",
    "        \"acc\": accuracy_score(y_true, y_labels),\n",
    "    }\n",
    "    if return_losses:\n",
    "        return metrics, all_losses\n",
    "    else:\n",
    "        return metrics"
   ]
  },
  {
   "cell_type": "code",
   "execution_count": 11,
   "metadata": {
    "execution": {
     "iopub.execute_input": "2021-11-22T05:00:48.277584Z",
     "iopub.status.busy": "2021-11-22T05:00:48.276982Z",
     "iopub.status.idle": "2021-11-22T05:00:48.293247Z",
     "shell.execute_reply": "2021-11-22T05:00:48.292431Z",
     "shell.execute_reply.started": "2021-11-22T05:00:48.277544Z"
    }
   },
   "outputs": [],
   "source": [
    "def fit(\n",
    "    model,\n",
    "    epochs,\n",
    "    train_data_loader,\n",
    "    test_data_loader,\n",
    "    optimizer,\n",
    "    criterion,\n",
    "    scheduler,\n",
    "    desired_acc=1.0,\n",
    "    device=\"cuda:0\",\n",
    "):\n",
    "    all_train_losses = []\n",
    "    epoch_train_losses = []\n",
    "    epoch_train_accuracy = []\n",
    "    epoch_test_losses = []\n",
    "    epoch_test_accuracy = []\n",
    "    for epoch in range(epochs):\n",
    "        print(f\"Train Epoch: {epoch}\")\n",
    "        train_metrics, one_epoch_train_losses = train_epoch(\n",
    "            model=model,\n",
    "            data_loader=train_data_loader,\n",
    "            optimizer=optimizer,\n",
    "            return_losses=True,\n",
    "            criterion=criterion,\n",
    "            device=device,\n",
    "        )\n",
    "        print(\n",
    "            \"Mean loss:\",\n",
    "            round(train_metrics[\"loss\"], 4),\n",
    "            \"Acc:\",\n",
    "            np.round(train_metrics[\"acc\"], 4),\n",
    "        )\n",
    "        all_train_losses.extend(one_epoch_train_losses)\n",
    "        epoch_train_losses.append(train_metrics[\"loss\"])\n",
    "        epoch_train_accuracy.append(train_metrics[\"acc\"])\n",
    "        # Test step\n",
    "        with torch.no_grad():\n",
    "            test_metrics = test(\n",
    "                model=model,\n",
    "                data_loader=test_data_loader,\n",
    "                criterion=criterion,\n",
    "                device=device,\n",
    "            )\n",
    "        print(\n",
    "            \"Test mean loss:\",\n",
    "            round(test_metrics[\"loss\"], 4),\n",
    "            \"Test acc:\",\n",
    "            np.round(test_metrics[\"acc\"], 4),\n",
    "        )\n",
    "        epoch_test_losses.append(test_metrics[\"loss\"])\n",
    "        epoch_test_accuracy.append(test_metrics[\"acc\"])\n",
    "        scheduler.step(test_metrics[\"acc\"])\n",
    "        if test_metrics[\"acc\"] >= desired_acc:\n",
    "            break\n",
    "    fig, ax = plt.subplots(ncols=2, figsize=(20, 8))\n",
    "    ax[0].plot(epoch_train_losses, label=\"Train\")\n",
    "    ax[0].plot(epoch_test_losses, label=\"Test\")\n",
    "    ax[0].set_title(\"Train/test loss evolution\")\n",
    "    ax[0].set_xlabel(\"Epoch\")\n",
    "    ax[0].set_ylabel(\"Mean loss\")\n",
    "    ax[0].grid()\n",
    "    ax[0].legend()\n",
    "    ax[1].plot(epoch_train_accuracy, label=\"Train\")\n",
    "    ax[1].plot(epoch_test_accuracy, label=\"Test\")\n",
    "    ax[1].set_title(\"Train/test accuracy evolution\")\n",
    "    ax[1].set_xlabel(\"Epoch\")\n",
    "    ax[1].set_ylabel(\"Accuracy\")\n",
    "    ax[1].grid()\n",
    "    ax[1].legend()\n",
    "    plt.show()"
   ]
  },
  {
   "cell_type": "code",
   "execution_count": 12,
   "metadata": {
    "execution": {
     "iopub.execute_input": "2021-11-22T05:00:48.295999Z",
     "iopub.status.busy": "2021-11-22T05:00:48.295635Z",
     "iopub.status.idle": "2021-11-22T05:00:48.306237Z",
     "shell.execute_reply": "2021-11-22T05:00:48.305456Z",
     "shell.execute_reply.started": "2021-11-22T05:00:48.295964Z"
    }
   },
   "outputs": [],
   "source": [
    "def predict(model, data_loader, criterion, device=\"cuda:0\"):\n",
    "    with torch.no_grad():\n",
    "        model = model.to(device).eval()\n",
    "        all_losses = []\n",
    "        y_true = torch.tensor([], device=device)\n",
    "        y_labels = torch.tensor([], device=device)\n",
    "        for obj, ans in data_loader:\n",
    "            obj = obj.to(device)\n",
    "            ans = ans.to(device)\n",
    "            y_true = torch.cat((y_true, ans), 0)\n",
    "            predicted = model(obj.float()).squeeze()\n",
    "            loss = criterion(predicted, ans)\n",
    "            all_losses.append(loss.detach().item())\n",
    "            y_pred_softmax = torch.log_softmax(predicted, dim=1)\n",
    "            y_labels = torch.cat((y_labels, y_pred_softmax.argmax(dim=1)), 0)\n",
    "        y_true = y_true.to(\"cpu\").numpy()\n",
    "        y_labels = y_labels.to(\"cpu\").numpy()\n",
    "        return all_losses, y_labels, y_true"
   ]
  },
  {
   "cell_type": "markdown",
   "metadata": {
    "id": "MxR3gfcilRVW"
   },
   "source": [
    "### Обучение модели, запуски экспериментов"
   ]
  },
  {
   "cell_type": "code",
   "execution_count": 13,
   "metadata": {
    "cell_id": 8,
    "execution": {
     "iopub.execute_input": "2021-11-22T05:00:48.309599Z",
     "iopub.status.busy": "2021-11-22T05:00:48.309242Z",
     "iopub.status.idle": "2021-11-22T05:00:50.473483Z",
     "shell.execute_reply": "2021-11-22T05:00:50.472731Z",
     "shell.execute_reply.started": "2021-11-22T05:00:48.309562Z"
    },
    "id": "JXFJ6oS8lRVX",
    "scrolled": true
   },
   "outputs": [],
   "source": [
    "# Импортим только архитектуру сети. Импортировать архитектуры не запрещалось, претрейн специально указал False\n",
    "vgg16_no_pretrain = torchvision.models.vgg16_bn(pretrained=False)\n",
    "# Если есть желание, можно посмотреть архитектуру до \n",
    "# display(vgg16_no_pretrain)\n",
    "# Вспомним что классов у нас 200 штук и задоно прооперируем последний слой:\n",
    "vgg16_no_pretrain.classifier[6] = nn.Linear(4096, 200)\n",
    "# Желающие могут посмотреть на итог операции:\n",
    "# display(vgg16_no_pretrain)"
   ]
  },
  {
   "cell_type": "code",
   "execution_count": 14,
   "metadata": {
    "execution": {
     "iopub.execute_input": "2021-11-22T05:00:50.480146Z",
     "iopub.status.busy": "2021-11-22T05:00:50.478065Z",
     "iopub.status.idle": "2021-11-22T05:00:50.488196Z",
     "shell.execute_reply": "2021-11-22T05:00:50.487533Z",
     "shell.execute_reply.started": "2021-11-22T05:00:50.480098Z"
    }
   },
   "outputs": [],
   "source": [
    "# Я согласен, что для истории экспериментов хорошо бы иметь один гиганоутбук со всеми\n",
    "# моделями по пути, но я напомню что сессия на kaggle.com ограничена 9 часами (гпу 39 в неделю, но любой ноутбук не более 9 подряд),\n",
    "# после чего инстанс сбрасывается вместе с аутпутом. Можно сохранять и потом ручками склеивать ноутбуки, но это слишком неприятно.\n",
    "# Надеюсь меня поймут и простят :)\n",
    "criterion = nn.CrossEntropyLoss()\n",
    "optimizer = torch.optim.SGD(\n",
    "    vgg16_no_pretrain.parameters(), lr=1e-2, weight_decay=1e-4, momentum=0.9\n",
    ")\n",
    "scheduler = torch.optim.lr_scheduler.ReduceLROnPlateau(optimizer, mode=\"max\", patience=3, factor=0.2)"
   ]
  },
  {
   "cell_type": "markdown",
   "metadata": {
    "cell_id": 9,
    "id": "CesoOl6BlRVY"
   },
   "source": [
    "Простой тест на проверку правильности написанного кода"
   ]
  },
  {
   "cell_type": "code",
   "execution_count": 15,
   "metadata": {
    "cell_id": 10,
    "execution": {
     "iopub.execute_input": "2021-11-22T05:00:50.781335Z",
     "iopub.status.busy": "2021-11-22T05:00:50.780994Z",
     "iopub.status.idle": "2021-11-22T05:01:05.839002Z",
     "shell.execute_reply": "2021-11-22T05:01:05.838058Z",
     "shell.execute_reply.started": "2021-11-22T05:00:50.781285Z"
    },
    "id": "B_LB2jn6lRVY"
   },
   "outputs": [
    {
     "name": "stdout",
     "output_type": "stream",
     "text": [
      "tests passed\n"
     ]
    }
   ],
   "source": [
    "all_losses, predicted_labels, true_labels = predict(\n",
    "    vgg16_no_pretrain, test_dataloader, criterion, device\n",
    ")\n",
    "assert len(predicted_labels) == len(test_dataset)\n",
    "accuracy = accuracy_score(predicted_labels, true_labels)\n",
    "print(\"tests passed\")"
   ]
  },
  {
   "cell_type": "markdown",
   "metadata": {
    "cell_id": 11,
    "id": "tS-LLiXUlRVY"
   },
   "source": [
    "Запустить обучение можно в ячейке ниже."
   ]
  },
  {
   "cell_type": "code",
   "execution_count": 16,
   "metadata": {
    "cell_id": 12,
    "execution": {
     "iopub.execute_input": "2021-11-22T05:01:05.841702Z",
     "iopub.status.busy": "2021-11-22T05:01:05.840935Z",
     "iopub.status.idle": "2021-11-22T05:54:13.401157Z",
     "shell.execute_reply": "2021-11-22T05:54:13.400355Z",
     "shell.execute_reply.started": "2021-11-22T05:01:05.841645Z"
    },
    "id": "ECIzZ_RYlRVZ",
    "scrolled": false
   },
   "outputs": [
    {
     "name": "stdout",
     "output_type": "stream",
     "text": [
      "Train Epoch: 0\n"
     ]
    },
    {
     "data": {
      "application/vnd.jupyter.widget-view+json": {
       "model_id": "fa2716a19f1d4a0d81f349f817be12c4",
       "version_major": 2,
       "version_minor": 0
      },
      "text/plain": [
       "  0%|          | 0/1563 [00:00<?, ?it/s]"
      ]
     },
     "metadata": {},
     "output_type": "display_data"
    },
    {
     "name": "stdout",
     "output_type": "stream",
     "text": [
      "Mean loss: 4.9977 Acc: 0.0228\n",
      "Test mean loss: 4.6653 Test acc: 0.0448\n",
      "Train Epoch: 1\n"
     ]
    },
    {
     "data": {
      "application/vnd.jupyter.widget-view+json": {
       "model_id": "11e2c47c8c9b403e9397ae3c212ad126",
       "version_major": 2,
       "version_minor": 0
      },
      "text/plain": [
       "  0%|          | 0/1563 [00:00<?, ?it/s]"
      ]
     },
     "metadata": {},
     "output_type": "display_data"
    },
    {
     "name": "stdout",
     "output_type": "stream",
     "text": [
      "Mean loss: 4.4732 Acc: 0.0626\n",
      "Test mean loss: 4.1961 Test acc: 0.0959\n",
      "Train Epoch: 2\n"
     ]
    },
    {
     "data": {
      "application/vnd.jupyter.widget-view+json": {
       "model_id": "40805d5cd4c44a14bddc879b3d4d0861",
       "version_major": 2,
       "version_minor": 0
      },
      "text/plain": [
       "  0%|          | 0/1563 [00:00<?, ?it/s]"
      ]
     },
     "metadata": {},
     "output_type": "display_data"
    },
    {
     "name": "stdout",
     "output_type": "stream",
     "text": [
      "Mean loss: 4.003 Acc: 0.1172\n",
      "Test mean loss: 3.7873 Test acc: 0.1514\n",
      "Train Epoch: 3\n"
     ]
    },
    {
     "data": {
      "application/vnd.jupyter.widget-view+json": {
       "model_id": "eda1ba184a8949c5ada7684583175b87",
       "version_major": 2,
       "version_minor": 0
      },
      "text/plain": [
       "  0%|          | 0/1563 [00:00<?, ?it/s]"
      ]
     },
     "metadata": {},
     "output_type": "display_data"
    },
    {
     "name": "stdout",
     "output_type": "stream",
     "text": [
      "Mean loss: 3.6705 Acc: 0.1693\n",
      "Test mean loss: 3.66 Test acc: 0.1748\n",
      "Train Epoch: 4\n"
     ]
    },
    {
     "data": {
      "application/vnd.jupyter.widget-view+json": {
       "model_id": "87ebeee5a4d9491d97b580e0bcca35e9",
       "version_major": 2,
       "version_minor": 0
      },
      "text/plain": [
       "  0%|          | 0/1563 [00:00<?, ?it/s]"
      ]
     },
     "metadata": {},
     "output_type": "display_data"
    },
    {
     "name": "stdout",
     "output_type": "stream",
     "text": [
      "Mean loss: 3.4093 Acc: 0.214\n",
      "Test mean loss: 3.345 Test acc: 0.23\n",
      "Train Epoch: 5\n"
     ]
    },
    {
     "data": {
      "application/vnd.jupyter.widget-view+json": {
       "model_id": "07847b90094545108a16e459d0e8415f",
       "version_major": 2,
       "version_minor": 0
      },
      "text/plain": [
       "  0%|          | 0/1563 [00:00<?, ?it/s]"
      ]
     },
     "metadata": {},
     "output_type": "display_data"
    },
    {
     "name": "stdout",
     "output_type": "stream",
     "text": [
      "Mean loss: 3.1933 Acc: 0.2527\n",
      "Test mean loss: 3.0638 Test acc: 0.2803\n",
      "Train Epoch: 6\n"
     ]
    },
    {
     "data": {
      "application/vnd.jupyter.widget-view+json": {
       "model_id": "db5b2c8a660f40098da8ee198012f1e6",
       "version_major": 2,
       "version_minor": 0
      },
      "text/plain": [
       "  0%|          | 0/1563 [00:00<?, ?it/s]"
      ]
     },
     "metadata": {},
     "output_type": "display_data"
    },
    {
     "name": "stdout",
     "output_type": "stream",
     "text": [
      "Mean loss: 3.0047 Acc: 0.2895\n",
      "Test mean loss: 2.9894 Test acc: 0.296\n",
      "Train Epoch: 7\n"
     ]
    },
    {
     "data": {
      "application/vnd.jupyter.widget-view+json": {
       "model_id": "650b44cd29594ed08211b33f9ab33358",
       "version_major": 2,
       "version_minor": 0
      },
      "text/plain": [
       "  0%|          | 0/1563 [00:00<?, ?it/s]"
      ]
     },
     "metadata": {},
     "output_type": "display_data"
    },
    {
     "name": "stdout",
     "output_type": "stream",
     "text": [
      "Mean loss: 2.8376 Acc: 0.3225\n",
      "Test mean loss: 2.79 Test acc: 0.3368\n",
      "Train Epoch: 8\n"
     ]
    },
    {
     "data": {
      "application/vnd.jupyter.widget-view+json": {
       "model_id": "896b3bed46a84c96938271e69a9741a0",
       "version_major": 2,
       "version_minor": 0
      },
      "text/plain": [
       "  0%|          | 0/1563 [00:00<?, ?it/s]"
      ]
     },
     "metadata": {},
     "output_type": "display_data"
    },
    {
     "name": "stdout",
     "output_type": "stream",
     "text": [
      "Mean loss: 2.6935 Acc: 0.3523\n",
      "Test mean loss: 2.7268 Test acc: 0.351\n",
      "Train Epoch: 9\n"
     ]
    },
    {
     "data": {
      "application/vnd.jupyter.widget-view+json": {
       "model_id": "7c338ae1d1d64d3889d82e78ad1187fe",
       "version_major": 2,
       "version_minor": 0
      },
      "text/plain": [
       "  0%|          | 0/1563 [00:00<?, ?it/s]"
      ]
     },
     "metadata": {},
     "output_type": "display_data"
    },
    {
     "name": "stdout",
     "output_type": "stream",
     "text": [
      "Mean loss: 2.5489 Acc: 0.3815\n",
      "Test mean loss: 2.5858 Test acc: 0.3827\n",
      "Train Epoch: 10\n"
     ]
    },
    {
     "data": {
      "application/vnd.jupyter.widget-view+json": {
       "model_id": "5134053dd4a44e5a953da47766a68d1d",
       "version_major": 2,
       "version_minor": 0
      },
      "text/plain": [
       "  0%|          | 0/1563 [00:00<?, ?it/s]"
      ]
     },
     "metadata": {},
     "output_type": "display_data"
    },
    {
     "name": "stdout",
     "output_type": "stream",
     "text": [
      "Mean loss: 2.4302 Acc: 0.4081\n",
      "Test mean loss: 2.6325 Test acc: 0.3727\n",
      "Train Epoch: 11\n"
     ]
    },
    {
     "data": {
      "application/vnd.jupyter.widget-view+json": {
       "model_id": "b423759617f848cca594b2a2cfeaa2bd",
       "version_major": 2,
       "version_minor": 0
      },
      "text/plain": [
       "  0%|          | 0/1563 [00:00<?, ?it/s]"
      ]
     },
     "metadata": {},
     "output_type": "display_data"
    },
    {
     "name": "stdout",
     "output_type": "stream",
     "text": [
      "Mean loss: 2.3215 Acc: 0.4306\n",
      "Test mean loss: 2.5501 Test acc: 0.3948\n",
      "Train Epoch: 12\n"
     ]
    },
    {
     "data": {
      "application/vnd.jupyter.widget-view+json": {
       "model_id": "50ad8f68f2344fef90c71a6b9f772f67",
       "version_major": 2,
       "version_minor": 0
      },
      "text/plain": [
       "  0%|          | 0/1563 [00:00<?, ?it/s]"
      ]
     },
     "metadata": {},
     "output_type": "display_data"
    },
    {
     "name": "stdout",
     "output_type": "stream",
     "text": [
      "Mean loss: 2.219 Acc: 0.4522\n",
      "Test mean loss: 2.5406 Test acc: 0.4014\n",
      "Train Epoch: 13\n"
     ]
    },
    {
     "data": {
      "application/vnd.jupyter.widget-view+json": {
       "model_id": "30c1f9bc7dd74ec48d6f0fd82c86e658",
       "version_major": 2,
       "version_minor": 0
      },
      "text/plain": [
       "  0%|          | 0/1563 [00:00<?, ?it/s]"
      ]
     },
     "metadata": {},
     "output_type": "display_data"
    },
    {
     "name": "stdout",
     "output_type": "stream",
     "text": [
      "Mean loss: 2.1175 Acc: 0.474\n",
      "Test mean loss: 2.4571 Test acc: 0.417\n",
      "Train Epoch: 14\n"
     ]
    },
    {
     "data": {
      "application/vnd.jupyter.widget-view+json": {
       "model_id": "e1b54797d6ba40878ff0ffac52d785e9",
       "version_major": 2,
       "version_minor": 0
      },
      "text/plain": [
       "  0%|          | 0/1563 [00:00<?, ?it/s]"
      ]
     },
     "metadata": {},
     "output_type": "display_data"
    },
    {
     "name": "stdout",
     "output_type": "stream",
     "text": [
      "Mean loss: 2.0331 Acc: 0.4915\n",
      "Test mean loss: 2.3377 Test acc: 0.447\n"
     ]
    },
    {
     "data": {
      "image/png": "[encoded data removed]",
      "text/plain": [
       "<Figure size 1440x576 with 2 Axes>"
      ]
     },
     "metadata": {
      "image/png": {
       "height": 494,
       "width": 1166
      },
      "needs_background": "light"
     },
     "output_type": "display_data"
    }
   ],
   "source": [
    "fit(\n",
    "    vgg16_no_pretrain,\n",
    "    1000,  # На всякий случай, вдруг desired недостижим\n",
    "    train_dataloader,\n",
    "    test_dataloader,\n",
    "    optimizer,\n",
    "    criterion,\n",
    "    scheduler,\n",
    "    desired_acc=0.44,\n",
    "    device=device,\n",
    ")"
   ]
  },
  {
   "cell_type": "markdown",
   "metadata": {
    "id": "ImVW8_EXlRVZ"
   },
   "source": [
    "### Проверка полученной accuracy"
   ]
  },
  {
   "cell_type": "markdown",
   "metadata": {
    "cell_id": 13,
    "id": "FmR-elhJlRVZ"
   },
   "source": [
    "После всех экспериментов которые вы проделали, выберите лучшую из своих моделей, реализуйте и запустите функцию `evaluate`. Эта функция должна брать на вход модель и даталоадер с валидационными данными и возврашать accuracy, посчитанную на этом датасете."
   ]
  },
  {
   "cell_type": "code",
   "execution_count": 17,
   "metadata": {
    "execution": {
     "iopub.execute_input": "2021-11-22T06:09:49.947316Z",
     "iopub.status.busy": "2021-11-22T06:09:49.946535Z",
     "iopub.status.idle": "2021-11-22T06:09:49.952935Z",
     "shell.execute_reply": "2021-11-22T06:09:49.951909Z",
     "shell.execute_reply.started": "2021-11-22T06:09:49.947274Z"
    }
   },
   "outputs": [],
   "source": [
    "def evaluate(model, data_loader, criterion, device=\"cuda:0\"):\n",
    "    _, pred, true = predict(model, data_loader, criterion, device)\n",
    "    return accuracy_score(true, pred)"
   ]
  },
  {
   "cell_type": "code",
   "execution_count": 18,
   "metadata": {
    "cell_id": 14,
    "execution": {
     "iopub.execute_input": "2021-11-22T06:09:50.584573Z",
     "iopub.status.busy": "2021-11-22T06:09:50.584320Z",
     "iopub.status.idle": "2021-11-22T06:10:03.654800Z",
     "shell.execute_reply": "2021-11-22T06:10:03.653978Z",
     "shell.execute_reply.started": "2021-11-22T06:09:50.584545Z"
    },
    "id": "3TGH0EFalRVb"
   },
   "outputs": [
    {
     "name": "stdout",
     "output_type": "stream",
     "text": [
      "Оценка за это задание составит 10 баллов\n"
     ]
    }
   ],
   "source": [
    "all_losses, predicted_labels, true_labels = predict(\n",
    "    vgg16_no_pretrain, test_dataloader, criterion, device\n",
    ")\n",
    "assert len(predicted_labels) == len(test_dataset)\n",
    "accuracy = accuracy_score(true_labels, predicted_labels)\n",
    "print(f\"Оценка за это задание составит {min(10, 10 * accuracy / 0.44)} баллов\")"
   ]
  },
  {
   "cell_type": "code",
   "execution_count": 19,
   "metadata": {
    "execution": {
     "iopub.execute_input": "2021-11-22T06:10:03.657074Z",
     "iopub.status.busy": "2021-11-22T06:10:03.656698Z",
     "iopub.status.idle": "2021-11-22T06:10:11.787564Z",
     "shell.execute_reply": "2021-11-22T06:10:11.785995Z",
     "shell.execute_reply.started": "2021-11-22T06:10:03.657031Z"
    }
   },
   "outputs": [
    {
     "name": "stdout",
     "output_type": "stream",
     "text": [
      "Accuracy: 0.4471\n"
     ]
    }
   ],
   "source": [
    "print(\"Accuracy:\", evaluate(vgg16_no_pretrain, test_dataloader, criterion, device))"
   ]
  },
  {
   "cell_type": "markdown",
   "metadata": {
    "cell_id": 15,
    "id": "pT8vfPSolRVb"
   },
   "source": [
    "### Отчёт об экспериментах \n",
    "\n",
    "Хорошо конечно сидеть и тратить дни на то, чтобы перебрать самовыдуманные архитектуры, но мне показалось более интересным потратить день и почитать тонну статеек и блогпостов про наш датасет. Фан фэкт: бОльшая часть \"крутых\" машинлернеров с разных сайтов выбивали на претрейне 0.6-0.7 и говорили вау как круто. Спустя некое очень немалое время удалось найти изложенное выше. Сначала я честно имплементировал то, что предлагалось в блогпосте выше. Это VGG16 с вырезанным последним блоком. К сожалению, то ли я что-то недокодил, то ли автор делал что-то ещё, но выше 0.39 качество не поднималось. Тогда я увидел на сайте пайторча существование того же VGG16, но с батчнормами. Как известно из первой дз, они обычно делают две вещи: ускоряют обучение и уменьшают переобучение. Вырезав тот же последний блок, я поставил по новой и увидел 0.43, что гораздо приятнее, но все еще не 10. Окей, поверим советам из гугла (они есть и выше и вообще много где ещё) и добавим сентер кроп, также я решил дать возможность VGG16 поработать без операций по удалению последнего слоя и бинго, вот они заветные овер 0.44. По пути я ещё пробовал сменить сгд на адама, с адамом сеть учится гораздо быстрее, из-за чего у меня он доводил до переобучения за несколько эпох даже с lr=1e-5. Попытки сделать StepLR и уменьшать lr каждый шаг ни к чему не привели, но тут, вероятно, я недостаточно много времени потратил на тюнинг. Сгд как таковой гораздо легче в плане подбора параметров и в принципе позволил достичь желаемого примерно за час, поэтому решил оставить его."
   ]
  }
 ],
 "metadata": {
  "kernelspec": {
   "display_name": "Python 3",
   "language": "python",
   "name": "python3"
  },
  "language_info": {
   "codemirror_mode": {
    "name": "ipython",
    "version": 3
   },
   "file_extension": ".py",
   "mimetype": "text/x-python",
   "name": "python",
   "nbconvert_exporter": "python",
   "pygments_lexer": "ipython3",
   "version": "3.8.5"
  }
 },
 "nbformat": 4,
 "nbformat_minor": 4
}
