{
 "cells": [
  {
   "cell_type": "markdown",
   "metadata": {
    "id": "Q_upCOEI3Upu"
   },
   "source": [
    "# Основы глубинного обучения, майнор ИАД\n",
    "\n",
    "## Домашнее задание 1. Введение в PyTorch. Полносвязные нейронные сети.\n",
    "\n",
    "### Общая информация\n",
    "\n",
    "Дата выдачи: 06.10.2021\n",
    "\n",
    "Мягкий дедлайн: 23:59MSK 25.10.2021\n",
    "\n",
    "Жесткий дедлайн: 23:59MSK 28.10.2021\n",
    "\n",
    "### Оценивание и штрафы\n",
    "Максимально допустимая оценка за работу — 10 баллов. За каждый день просрочки снимается 1 балл. Сдавать задание после жёсткого дедлайна сдачи нельзя.\n",
    "\n",
    "Задание выполняется самостоятельно. «Похожие» решения считаются плагиатом и все задействованные студенты (в том числе те, у кого списали) не могут получить за него больше 0 баллов. Если вы нашли решение какого-то из заданий (или его часть) в открытом источнике, необходимо указать ссылку на этот источник в отдельном блоке в конце вашей работы (скорее всего вы будете не единственным, кто это нашел, поэтому чтобы исключить подозрение в плагиате, необходима ссылка на источник).\n",
    "\n",
    "Неэффективная реализация кода может негативно отразиться на оценке.\n",
    "Также оценка может быть снижена за плохо читаемый код и плохо оформленные графики. Все ответы должны сопровождаться кодом или комментариями о том, как они были получены.\n",
    "\n",
    "### О задании\n",
    "\n",
    "В этом задании вам предстоит предсказывать год выпуска песни по некоторым звуковым признакам: [данные](https://archive.ics.uci.edu/ml/datasets/yearpredictionmsd). В ячейках ниже находится код для загрузки данных. Обратите внимание, что обучающая и тестовая выборки располагаются в одном файле, поэтому НЕ меняйте ячейку, в которой производится деление данных."
   ]
  },
  {
   "cell_type": "code",
   "execution_count": 1,
   "metadata": {
    "id": "RI_eoe063VaP"
   },
   "outputs": [],
   "source": [
    "import sys\n",
    "import torch\n",
    "import random\n",
    "import pandas as pd\n",
    "import numpy as np\n",
    "import matplotlib.pyplot as plt\n",
    "from torch import nn\n",
    "from tqdm.notebook import tqdm\n",
    "from sklearn.preprocessing import StandardScaler\n",
    "from sklearn.model_selection import train_test_split\n",
    "from sklearn.metrics import mean_squared_error\n",
    "from sklearn.linear_model import Ridge\n",
    "from IPython.display import clear_output"
   ]
  },
  {
   "cell_type": "code",
   "execution_count": 2,
   "metadata": {},
   "outputs": [
    {
     "name": "stdout",
     "output_type": "stream",
     "text": [
      "Requirement already satisfied: wandb in /Users/markblumenau/opt/anaconda3/lib/python3.8/site-packages (0.12.5)\n",
      "Requirement already satisfied: requests<3,>=2.0.0 in /Users/markblumenau/opt/anaconda3/lib/python3.8/site-packages (from wandb) (2.21.0)\n",
      "Requirement already satisfied: configparser>=3.8.1 in /Users/markblumenau/opt/anaconda3/lib/python3.8/site-packages (from wandb) (5.0.2)\n",
      "Requirement already satisfied: python-dateutil>=2.6.1 in /Users/markblumenau/opt/anaconda3/lib/python3.8/site-packages (from wandb) (2.8.1)\n",
      "Requirement already satisfied: six>=1.13.0 in /Users/markblumenau/opt/anaconda3/lib/python3.8/site-packages (from wandb) (1.15.0)\n",
      "Requirement already satisfied: psutil>=5.0.0 in /Users/markblumenau/opt/anaconda3/lib/python3.8/site-packages (from wandb) (5.7.2)\n",
      "Requirement already satisfied: protobuf>=3.12.0 in /Users/markblumenau/opt/anaconda3/lib/python3.8/site-packages (from wandb) (3.17.0)\n",
      "Requirement already satisfied: pathtools in /Users/markblumenau/opt/anaconda3/lib/python3.8/site-packages (from wandb) (0.1.2)\n",
      "Requirement already satisfied: sentry-sdk>=1.0.0 in /Users/markblumenau/opt/anaconda3/lib/python3.8/site-packages (from wandb) (1.4.3)\n",
      "Requirement already satisfied: docker-pycreds>=0.4.0 in /Users/markblumenau/opt/anaconda3/lib/python3.8/site-packages (from wandb) (0.4.0)\n",
      "Requirement already satisfied: GitPython>=1.0.0 in /Users/markblumenau/opt/anaconda3/lib/python3.8/site-packages (from wandb) (3.1.24)\n",
      "Requirement already satisfied: promise<3,>=2.0 in /Users/markblumenau/opt/anaconda3/lib/python3.8/site-packages (from wandb) (2.3)\n",
      "Requirement already satisfied: PyYAML in /Users/markblumenau/opt/anaconda3/lib/python3.8/site-packages (from wandb) (5.3.1)\n",
      "Requirement already satisfied: shortuuid>=0.5.0 in /Users/markblumenau/opt/anaconda3/lib/python3.8/site-packages (from wandb) (1.0.1)\n",
      "Requirement already satisfied: Click!=8.0.0,>=7.0 in /Users/markblumenau/opt/anaconda3/lib/python3.8/site-packages (from wandb) (7.1.2)\n",
      "Requirement already satisfied: yaspin>=1.0.0 in /Users/markblumenau/opt/anaconda3/lib/python3.8/site-packages (from wandb) (2.1.0)\n",
      "Requirement already satisfied: subprocess32>=3.5.3 in /Users/markblumenau/opt/anaconda3/lib/python3.8/site-packages (from wandb) (3.5.4)\n",
      "Requirement already satisfied: chardet<3.1.0,>=3.0.2 in /Users/markblumenau/opt/anaconda3/lib/python3.8/site-packages (from requests<3,>=2.0.0->wandb) (3.0.4)\n",
      "Requirement already satisfied: certifi>=2017.4.17 in /Users/markblumenau/opt/anaconda3/lib/python3.8/site-packages (from requests<3,>=2.0.0->wandb) (2019.3.9)\n",
      "Requirement already satisfied: urllib3<1.25,>=1.21.1 in /Users/markblumenau/opt/anaconda3/lib/python3.8/site-packages (from requests<3,>=2.0.0->wandb) (1.24.3)\n",
      "Requirement already satisfied: idna<2.9,>=2.5 in /Users/markblumenau/opt/anaconda3/lib/python3.8/site-packages (from requests<3,>=2.0.0->wandb) (2.8)\n",
      "Requirement already satisfied: gitdb<5,>=4.0.1 in /Users/markblumenau/opt/anaconda3/lib/python3.8/site-packages (from GitPython>=1.0.0->wandb) (4.0.8)\n",
      "Requirement already satisfied: typing-extensions>=3.7.4.3; python_version < \"3.10\" in /Users/markblumenau/opt/anaconda3/lib/python3.8/site-packages (from GitPython>=1.0.0->wandb) (3.7.4.3)\n",
      "Requirement already satisfied: termcolor<2.0.0,>=1.1.0 in /Users/markblumenau/opt/anaconda3/lib/python3.8/site-packages (from yaspin>=1.0.0->wandb) (1.1.0)\n",
      "Requirement already satisfied: smmap<6,>=3.0.1 in /Users/markblumenau/opt/anaconda3/lib/python3.8/site-packages (from gitdb<5,>=4.0.1->GitPython>=1.0.0->wandb) (5.0.0)\n"
     ]
    },
    {
     "name": "stderr",
     "output_type": "stream",
     "text": [
      "\u001b[34m\u001b[1mwandb\u001b[0m: Currently logged in as: \u001b[33mburunduk387\u001b[0m (use `wandb login --relogin` to force relogin)\n"
     ]
    },
    {
     "data": {
      "text/html": [
       "\n",
       "                    Syncing run <strong><a href=\"https://wandb.ai/burunduk387/uncategorized/runs/298i01ie\" target=\"_blank\">pleasant-breeze-9</a></strong> to <a href=\"https://wandb.ai/burunduk387/uncategorized\" target=\"_blank\">Weights & Biases</a> (<a href=\"https://docs.wandb.com/integrations/jupyter.html\" target=\"_blank\">docs</a>).<br/>\n",
       "\n",
       "                "
      ],
      "text/plain": [
       "<IPython.core.display.HTML object>"
      ]
     },
     "metadata": {},
     "output_type": "display_data"
    },
    {
     "data": {
      "text/html": [
       "<button onClick=\"this.nextSibling.style.display='block';this.style.display='none';\">Display W&B run</button><iframe src=\"https://wandb.ai/burunduk387/uncategorized/runs/298i01ie?jupyter=true\" style=\"border:none;width:100%;height:420px;display:none;\"></iframe>"
      ],
      "text/plain": [
       "<wandb.sdk.wandb_run.Run at 0x7ff54e3540a0>"
      ]
     },
     "execution_count": 2,
     "metadata": {},
     "output_type": "execute_result"
    }
   ],
   "source": [
    "# Запускать только при желании смотреть за показателями по ссылочке\n",
    "!pip install wandb\n",
    "import wandb\n",
    "\n",
    "wandb.init()"
   ]
  },
  {
   "cell_type": "code",
   "execution_count": 3,
   "metadata": {
    "colab": {
     "base_uri": "https://localhost:8080/"
    },
    "id": "7NgSZeU-7vgj",
    "outputId": "c0138d06-5f88-44cb-d965-d9640c9ded1e"
   },
   "outputs": [
    {
     "name": "stdout",
     "output_type": "stream",
     "text": [
      "--2021-10-26 22:34:49--  https://archive.ics.uci.edu/ml/machine-learning-databases/00203/YearPredictionMSD.txt.zip\n",
      "Resolving archive.ics.uci.edu (archive.ics.uci.edu)... 128.195.10.252\n",
      "Connecting to archive.ics.uci.edu (archive.ics.uci.edu)|128.195.10.252|:443... connected.\n",
      "HTTP request sent, awaiting response... 200 OK\n",
      "Length: 211011981 (201M) [application/x-httpd-php]\n",
      "Saving to: ‘data.txt.zip’\n",
      "\n",
      "data.txt.zip        100%[===================>] 201.24M  3.10MB/s    in 2m 32s  \n",
      "\n",
      "2021-10-26 22:37:21 (1.32 MB/s) - ‘data.txt.zip’ saved [211011981/211011981]\n",
      "\n"
     ]
    }
   ],
   "source": [
    "!wget -O data.txt.zip https://archive.ics.uci.edu/ml/machine-learning-databases/00203/YearPredictionMSD.txt.zip"
   ]
  },
  {
   "cell_type": "code",
   "execution_count": 4,
   "metadata": {
    "colab": {
     "base_uri": "https://localhost:8080/",
     "height": 253
    },
    "id": "DSVJZzkJ7zZE",
    "outputId": "10c6e3d1-7073-4844-fb68-489ba8006db5"
   },
   "outputs": [
    {
     "data": {
      "text/html": [
       "<div>\n",
       "<style scoped>\n",
       "    .dataframe tbody tr th:only-of-type {\n",
       "        vertical-align: middle;\n",
       "    }\n",
       "\n",
       "    .dataframe tbody tr th {\n",
       "        vertical-align: top;\n",
       "    }\n",
       "\n",
       "    .dataframe thead th {\n",
       "        text-align: right;\n",
       "    }\n",
       "</style>\n",
       "<table border=\"1\" class=\"dataframe\">\n",
       "  <thead>\n",
       "    <tr style=\"text-align: right;\">\n",
       "      <th></th>\n",
       "      <th>0</th>\n",
       "      <th>1</th>\n",
       "      <th>2</th>\n",
       "      <th>3</th>\n",
       "      <th>4</th>\n",
       "      <th>5</th>\n",
       "      <th>6</th>\n",
       "      <th>7</th>\n",
       "      <th>8</th>\n",
       "      <th>9</th>\n",
       "      <th>...</th>\n",
       "      <th>81</th>\n",
       "      <th>82</th>\n",
       "      <th>83</th>\n",
       "      <th>84</th>\n",
       "      <th>85</th>\n",
       "      <th>86</th>\n",
       "      <th>87</th>\n",
       "      <th>88</th>\n",
       "      <th>89</th>\n",
       "      <th>90</th>\n",
       "    </tr>\n",
       "  </thead>\n",
       "  <tbody>\n",
       "    <tr>\n",
       "      <th>0</th>\n",
       "      <td>2001</td>\n",
       "      <td>49.94357</td>\n",
       "      <td>21.47114</td>\n",
       "      <td>73.07750</td>\n",
       "      <td>8.74861</td>\n",
       "      <td>-17.40628</td>\n",
       "      <td>-13.09905</td>\n",
       "      <td>-25.01202</td>\n",
       "      <td>-12.23257</td>\n",
       "      <td>7.83089</td>\n",
       "      <td>...</td>\n",
       "      <td>13.01620</td>\n",
       "      <td>-54.40548</td>\n",
       "      <td>58.99367</td>\n",
       "      <td>15.37344</td>\n",
       "      <td>1.11144</td>\n",
       "      <td>-23.08793</td>\n",
       "      <td>68.40795</td>\n",
       "      <td>-1.82223</td>\n",
       "      <td>-27.46348</td>\n",
       "      <td>2.26327</td>\n",
       "    </tr>\n",
       "    <tr>\n",
       "      <th>1</th>\n",
       "      <td>2001</td>\n",
       "      <td>48.73215</td>\n",
       "      <td>18.42930</td>\n",
       "      <td>70.32679</td>\n",
       "      <td>12.94636</td>\n",
       "      <td>-10.32437</td>\n",
       "      <td>-24.83777</td>\n",
       "      <td>8.76630</td>\n",
       "      <td>-0.92019</td>\n",
       "      <td>18.76548</td>\n",
       "      <td>...</td>\n",
       "      <td>5.66812</td>\n",
       "      <td>-19.68073</td>\n",
       "      <td>33.04964</td>\n",
       "      <td>42.87836</td>\n",
       "      <td>-9.90378</td>\n",
       "      <td>-32.22788</td>\n",
       "      <td>70.49388</td>\n",
       "      <td>12.04941</td>\n",
       "      <td>58.43453</td>\n",
       "      <td>26.92061</td>\n",
       "    </tr>\n",
       "    <tr>\n",
       "      <th>2</th>\n",
       "      <td>2001</td>\n",
       "      <td>50.95714</td>\n",
       "      <td>31.85602</td>\n",
       "      <td>55.81851</td>\n",
       "      <td>13.41693</td>\n",
       "      <td>-6.57898</td>\n",
       "      <td>-18.54940</td>\n",
       "      <td>-3.27872</td>\n",
       "      <td>-2.35035</td>\n",
       "      <td>16.07017</td>\n",
       "      <td>...</td>\n",
       "      <td>3.03800</td>\n",
       "      <td>26.05866</td>\n",
       "      <td>-50.92779</td>\n",
       "      <td>10.93792</td>\n",
       "      <td>-0.07568</td>\n",
       "      <td>43.20130</td>\n",
       "      <td>-115.00698</td>\n",
       "      <td>-0.05859</td>\n",
       "      <td>39.67068</td>\n",
       "      <td>-0.66345</td>\n",
       "    </tr>\n",
       "    <tr>\n",
       "      <th>3</th>\n",
       "      <td>2001</td>\n",
       "      <td>48.24750</td>\n",
       "      <td>-1.89837</td>\n",
       "      <td>36.29772</td>\n",
       "      <td>2.58776</td>\n",
       "      <td>0.97170</td>\n",
       "      <td>-26.21683</td>\n",
       "      <td>5.05097</td>\n",
       "      <td>-10.34124</td>\n",
       "      <td>3.55005</td>\n",
       "      <td>...</td>\n",
       "      <td>34.57337</td>\n",
       "      <td>-171.70734</td>\n",
       "      <td>-16.96705</td>\n",
       "      <td>-46.67617</td>\n",
       "      <td>-12.51516</td>\n",
       "      <td>82.58061</td>\n",
       "      <td>-72.08993</td>\n",
       "      <td>9.90558</td>\n",
       "      <td>199.62971</td>\n",
       "      <td>18.85382</td>\n",
       "    </tr>\n",
       "    <tr>\n",
       "      <th>4</th>\n",
       "      <td>2001</td>\n",
       "      <td>50.97020</td>\n",
       "      <td>42.20998</td>\n",
       "      <td>67.09964</td>\n",
       "      <td>8.46791</td>\n",
       "      <td>-15.85279</td>\n",
       "      <td>-16.81409</td>\n",
       "      <td>-12.48207</td>\n",
       "      <td>-9.37636</td>\n",
       "      <td>12.63699</td>\n",
       "      <td>...</td>\n",
       "      <td>9.92661</td>\n",
       "      <td>-55.95724</td>\n",
       "      <td>64.92712</td>\n",
       "      <td>-17.72522</td>\n",
       "      <td>-1.49237</td>\n",
       "      <td>-7.50035</td>\n",
       "      <td>51.76631</td>\n",
       "      <td>7.88713</td>\n",
       "      <td>55.66926</td>\n",
       "      <td>28.74903</td>\n",
       "    </tr>\n",
       "  </tbody>\n",
       "</table>\n",
       "<p>5 rows × 91 columns</p>\n",
       "</div>"
      ],
      "text/plain": [
       "     0         1         2         3         4         5         6         7   \\\n",
       "0  2001  49.94357  21.47114  73.07750   8.74861 -17.40628 -13.09905 -25.01202   \n",
       "1  2001  48.73215  18.42930  70.32679  12.94636 -10.32437 -24.83777   8.76630   \n",
       "2  2001  50.95714  31.85602  55.81851  13.41693  -6.57898 -18.54940  -3.27872   \n",
       "3  2001  48.24750  -1.89837  36.29772   2.58776   0.97170 -26.21683   5.05097   \n",
       "4  2001  50.97020  42.20998  67.09964   8.46791 -15.85279 -16.81409 -12.48207   \n",
       "\n",
       "         8         9   ...        81         82        83        84        85  \\\n",
       "0 -12.23257   7.83089  ...  13.01620  -54.40548  58.99367  15.37344   1.11144   \n",
       "1  -0.92019  18.76548  ...   5.66812  -19.68073  33.04964  42.87836  -9.90378   \n",
       "2  -2.35035  16.07017  ...   3.03800   26.05866 -50.92779  10.93792  -0.07568   \n",
       "3 -10.34124   3.55005  ...  34.57337 -171.70734 -16.96705 -46.67617 -12.51516   \n",
       "4  -9.37636  12.63699  ...   9.92661  -55.95724  64.92712 -17.72522  -1.49237   \n",
       "\n",
       "         86         87        88         89        90  \n",
       "0 -23.08793   68.40795  -1.82223  -27.46348   2.26327  \n",
       "1 -32.22788   70.49388  12.04941   58.43453  26.92061  \n",
       "2  43.20130 -115.00698  -0.05859   39.67068  -0.66345  \n",
       "3  82.58061  -72.08993   9.90558  199.62971  18.85382  \n",
       "4  -7.50035   51.76631   7.88713   55.66926  28.74903  \n",
       "\n",
       "[5 rows x 91 columns]"
      ]
     },
     "execution_count": 4,
     "metadata": {},
     "output_type": "execute_result"
    }
   ],
   "source": [
    "df = pd.read_csv(\"data.txt.zip\", header=None)\n",
    "df.head()"
   ]
  },
  {
   "cell_type": "code",
   "execution_count": 5,
   "metadata": {
    "id": "n4wnRJT1778j"
   },
   "outputs": [],
   "source": [
    "X = df.iloc[:, 1:].values\n",
    "y = df.iloc[:, 0].values\n",
    "\n",
    "train_size = 463715\n",
    "X_train = X[:train_size, :]\n",
    "y_train = y[:train_size]\n",
    "X_test = X[train_size:, :]\n",
    "y_test = y[train_size:]"
   ]
  },
  {
   "cell_type": "markdown",
   "metadata": {
    "id": "_386JE_o5gOd"
   },
   "source": [
    "## Задание 0. (0 баллов, но при невыполнении максимум за все задание &mdash; 0 баллов)\n",
    "\n",
    "Мы будем использовать RMSE как метрику качества. Для самого первого бейзлайна обучите `Ridge` регрессию из `sklearn`. Кроме того, посчитайте качество при наилучшем константном прогнозе."
   ]
  },
  {
   "cell_type": "markdown",
   "metadata": {
    "id": "-Ik2Jk1PRWAq"
   },
   "source": [
    "Весь код в PEP 8 (более строгая его подвариация), надеюсь такой стиль удобен :)"
   ]
  },
  {
   "cell_type": "code",
   "execution_count": 6,
   "metadata": {},
   "outputs": [
    {
     "name": "stdout",
     "output_type": "stream",
     "text": [
      "Const_RMSE: 10.8519\n",
      "Ridge_RMSE: 9.5102\n"
     ]
    }
   ],
   "source": [
    "# Для MSE/RMSE лучший константный - среднее, его и подставим\n",
    "print(\n",
    "    \"Const_RMSE:\",\n",
    "    np.round(\n",
    "        mean_squared_error(\n",
    "            y_test, np.full(y_test.shape[0], y_test.mean()), squared=False\n",
    "        ),\n",
    "        4,\n",
    "    ),\n",
    ")\n",
    "# Никто не просит честную игру для Ridge, поэтому отскейлим после него\n",
    "lin_model = Ridge()\n",
    "lin_model.fit(X_train, y_train)\n",
    "print(\n",
    "    \"Ridge_RMSE:\",\n",
    "    np.round(mean_squared_error(y_test, lin_model.predict(X_test), squared=False), 4),\n",
    ")"
   ]
  },
  {
   "cell_type": "markdown",
   "metadata": {
    "id": "_6ilBKYt6OdD"
   },
   "source": [
    "## Задание 1. (максимум 10 баллов)\n",
    "\n",
    "Реализуйте обучение и тестирование нейронной сети для предоставленного вам набора данных. Соотношение между полученным значением метрики на тестовой выборке и баллами за задание следующее:\n",
    "\n",
    "- $\\text{RMSE} \\le 9.00 $ &mdash; 4 балла\n",
    "- $\\text{RMSE} \\le 8.90 $ &mdash; 6 баллов\n",
    "- $\\text{RMSE} \\le 8.80 $ &mdash; 8 баллов\n",
    "- $\\text{RMSE} \\le 8.75 $ &mdash; 10 баллов\n",
    "\n",
    "Есть несколько правил, которых вам нужно придерживаться:\n",
    "\n",
    "- Весь пайплайн обучения должен быть написан на PyTorch. При этом вы можете пользоваться другими библиотеками (`numpy`, `sklearn` и пр.), но только для обработки данных. То есть как угодно трансформировать данные и считать метрики с помощью этих библиотек можно, а импортировать модели из `sklearn` и выбивать с их помощью требуемое качество &mdash; нельзя. Также нельзя пользоваться библиотеками, для которых сам PyTorch является зависимостью.\n",
    "\n",
    "- Мы никак не ограничиваем ваш выбор архитектуры модели, но скорее всего вам будет достаточно полносвязной нейронной сети.\n",
    "\n",
    "- Для обучения запрещается использовать какие-либо иные данные, кроме обучающей выборки.\n",
    "\n",
    "- Ансамблирование моделей запрещено.\n",
    "\n",
    "### Полезные советы:\n",
    "\n",
    "- Очень вряд ли, что у вас с первого раза получится выбить качество на 10 баллов, поэтому пробуйте разные архитектуры, оптимизаторы и значения гиперпараметров. В идеале при запуске каждого нового эксперимента вы должны менять что-то одно, чтобы точно знать, как этот фактор влияет на качество.\n",
    "\n",
    "- Тот факт, что мы занимаемся глубинным обучением, не означает, что стоит забывать про приемы, использующиеся в классическом машинном обучении. Так что обязательно проводите исследовательский анализ данных, отрисовывайте нужные графики и не забывайте про масштабирование и подбор гиперпараметров.\n",
    "\n",
    "- Вы наверняка столкнетесь с тем, что ваша нейронная сеть будет сильно переобучаться. Для нейросетей существуют специальные методы регуляризации, например, dropout ([статья](https://jmlr.org/papers/volume15/srivastava14a/srivastava14a.pdf)) и weight decay ([блогпост](https://towardsdatascience.com/weight-decay-l2-regularization-90a9e17713cd)). Они, разумеется, реализованы в PyTorch. Попробуйте поэкспериментировать с ними.\n",
    "\n",
    "- Если вы чего-то не знаете, не гнушайтесь гуглить. В интернете очень много полезной информации, туториалов и советов по глубинному обучению в целом и по PyTorch в частности. Но не забывайте, что за скатанный код без ссылки на источник придется ответить по всей строгости!\n",
    "\n",
    "- Если вы сразу реализуете обучение на GPU, то у вас будет больше времени на эксперименты, так как любые вычисления будут работать быстрее. Google Colab предоставляет несколько GPU-часов (обычно около 8-10) в сутки бесплатно.\n",
    "\n",
    "- Чтобы отладить код, можете обучаться на небольшой части данных или даже на одном батче. Если лосс на обучающей выборке не падает, то что-то точно идет не так!\n",
    "\n",
    "- Пользуйтесь утилитами, которые вам предоставляет PyTorch (например, Dataset и Dataloader). Их специально разработали для упрощения разработки пайплайна обучения.\n",
    "\n",
    "- Скорее всего вы захотите отслеживать прогресс обучения. Для создания прогресс-баров есть удобная библиотека `tqdm`.\n",
    "\n",
    "- Быть может, вы захотите, чтобы графики рисовались прямо во время обучения. Можете воспользоваться функцией [clear_output](http://ipython.org/ipython-doc/dev/api/generated/IPython.display.html#IPython.display.clear_output), чтобы удалять старый график и рисовать новый на его месте.\n",
    "\n",
    "**ОБЯЗАТЕЛЬНО** рисуйте графики зависимости лосса/метрики на обучающей и тестовой выборках в зависимости от времени обучения. Если обучение занимает относительно небольшое число эпох, то лучше рисовать зависимость от номера шага обучения, если же эпох больше, то рисуйте зависимость по эпохам. Если проверяющий не увидит такого графика для вашей лучшей модели, то он в праве снизить баллы за задание.\n",
    "\n",
    "**ВАЖНО!** Ваше решение должно быть воспроизводимым. Если это не так, то проверяющий имеет право снизить баллы за задание. Чтобы зафиксировать random seed, воспользуйтесь функцией из ячейки ниже.\n",
    "\n"
   ]
  },
  {
   "cell_type": "code",
   "execution_count": 7,
   "metadata": {
    "id": "VaMButDmEKKw"
   },
   "outputs": [],
   "source": [
    "def set_random_seed(seed):\n",
    "    torch.backends.cudnn.deterministic = True\n",
    "    torch.manual_seed(seed)\n",
    "    torch.cuda.manual_seed(seed)\n",
    "    np.random.seed(seed)\n",
    "    random.seed(seed)"
   ]
  },
  {
   "cell_type": "code",
   "execution_count": 8,
   "metadata": {
    "id": "_iLfj_zQOBwm"
   },
   "outputs": [],
   "source": [
    "# Сетим сид (но это не совсем его сеттит как таковой):\n",
    "set_random_seed(42)"
   ]
  },
  {
   "cell_type": "markdown",
   "metadata": {
    "id": "TZW0gMe3vT8u"
   },
   "source": [
    "Вы можете придерживаться любой адекватной струкуры кода, но мы советуем воспользоваться следующими сигнатурами функций. Лучше всего, если вы проверите ваши предсказания ассертом: так вы убережете себя от разных косяков, например, что вектор предсказаний состоит из всего одного числа. В любом случае, внимательно следите за тем, для каких тензоров вы считаете метрику RMSE. При случайном или намеренном введении в заблуждение проверяющие очень сильно разозлятся."
   ]
  },
  {
   "cell_type": "markdown",
   "metadata": {
    "id": "WYus5vmnSMIU"
   },
   "source": [
    "Отлично, я хочу кволити оф лайф импрувментс, так что прошу потерпеть и не бухтеть<br>\n",
    "Всё будет хорошо по итогу :)"
   ]
  },
  {
   "cell_type": "code",
   "execution_count": 9,
   "metadata": {
    "colab": {
     "base_uri": "https://localhost:8080/"
    },
    "id": "rSIsS9-YRG8B",
    "outputId": "4d9a0480-a649-4bb1-9bf6-2d56a247f5de"
   },
   "outputs": [],
   "source": [
    "device = \"cuda:0\" if torch.cuda.is_available() else \"cpu\""
   ]
  },
  {
   "cell_type": "code",
   "execution_count": 10,
   "metadata": {
    "id": "c08ynHffSGzM"
   },
   "outputs": [],
   "source": [
    "# Хочется валидационную выборку, а хочу = могу\n",
    "X_train, X_val, y_train, y_val = train_test_split(\n",
    "    X_train, y_train, test_size=0.1, random_state=42\n",
    ")"
   ]
  },
  {
   "cell_type": "code",
   "execution_count": 11,
   "metadata": {
    "id": "rvVnTM5X-Skn"
   },
   "outputs": [],
   "source": [
    "scl = StandardScaler()\n",
    "scl_true = StandardScaler()\n",
    "# Скейлим X\n",
    "X_train = scl.fit_transform(X_train)\n",
    "X_val = scl.transform(X_val)\n",
    "X_test = scl.transform(X_test)\n",
    "# Скейлим y\n",
    "y_train = scl_true.fit_transform(y_train.reshape(-1, 1)).reshape(-1)\n",
    "y_val = scl_true.transform(y_val.reshape(-1, 1)).reshape(-1)\n",
    "y_test = scl_true.transform(y_test.reshape(-1, 1)).reshape(-1)"
   ]
  },
  {
   "cell_type": "code",
   "execution_count": 12,
   "metadata": {},
   "outputs": [
    {
     "name": "stdout",
     "output_type": "stream",
     "text": [
      "Ridge_RMSE: 9.5103\n"
     ]
    }
   ],
   "source": [
    "# Ладно обучим Ridge еще раз\n",
    "lin_model = Ridge()\n",
    "lin_model.fit(X_train, y_train)\n",
    "print(\n",
    "    \"Ridge_RMSE:\",\n",
    "    np.round(\n",
    "        mean_squared_error(y_test, lin_model.predict(X_test), squared=False)\n",
    "        * scl_true.scale_[0],\n",
    "        4,\n",
    "    ),\n",
    ")"
   ]
  },
  {
   "cell_type": "code",
   "execution_count": 13,
   "metadata": {
    "id": "peomNjMWbkSz"
   },
   "outputs": [],
   "source": [
    "# Делаем 3 сета\n",
    "train_set = torch.utils.data.TensorDataset(\n",
    "    torch.from_numpy(X_train).to(torch.float), torch.from_numpy(y_train).to(torch.float)\n",
    ")\n",
    "train_loader = torch.utils.data.DataLoader(\n",
    "    train_set, batch_size=128, shuffle=True, num_workers=0\n",
    ")\n",
    "\n",
    "valid_set = torch.utils.data.TensorDataset(\n",
    "    torch.from_numpy(X_val).to(torch.float), torch.from_numpy(y_val).to(torch.float)\n",
    ")\n",
    "valid_loader = torch.utils.data.DataLoader(\n",
    "    valid_set, batch_size=131072, shuffle=False, num_workers=0\n",
    ")\n",
    "\n",
    "test_set = torch.utils.data.TensorDataset(\n",
    "    torch.from_numpy(X_test).to(torch.float), torch.from_numpy(y_test).to(torch.float)\n",
    ")\n",
    "test_loader = torch.utils.data.DataLoader(\n",
    "    test_set, batch_size=131072, shuffle=False, num_workers=0\n",
    ")"
   ]
  },
  {
   "cell_type": "code",
   "execution_count": 14,
   "metadata": {
    "id": "5kD9DySnkXsX"
   },
   "outputs": [],
   "source": [
    "# Для некоторых экспериментов (да и в целом из-за моей лени), хочется чтобы модель могла остановиться сама\n",
    "# Работает как одноимённая штука из tf\n",
    "class EarlyStopping:\n",
    "    \"\"\"\n",
    "    Early stopping to stop the training when the loss does not improve after a\n",
    "    certain amount of epochs.\n",
    "    \"\"\"\n",
    "\n",
    "    def __init__(self, patience=10, threshold=1e-4, verbose=False):\n",
    "        \"\"\"\n",
    "        :param patience: how many epochs to wait before stopping when loss is\n",
    "               not improving\n",
    "        :param threshold: minimum difference between new loss and old loss for\n",
    "               new loss to be considered as an improvement\n",
    "        :param verbose: printing counter value if growing\n",
    "        \"\"\"\n",
    "        self.patience = patience\n",
    "        self.threshold = threshold\n",
    "        self.verbose = verbose\n",
    "        self.counter = 0\n",
    "        self.last_epoch = 0\n",
    "        self.best_loss = None\n",
    "        self.early_stop = False\n",
    "\n",
    "    def __call__(self, val_loss):\n",
    "        if self.best_loss == None:\n",
    "            self.best_loss = val_loss\n",
    "        elif self.best_loss - val_loss > self.threshold:\n",
    "            self.best_loss = val_loss\n",
    "            self.counter = 0\n",
    "        elif self.best_loss - val_loss < self.threshold:\n",
    "            self.counter += 1\n",
    "            if self.verbose:\n",
    "                print(\n",
    "                    f\"Early stopping counter {self.counter} of {self.patience}, Epoch {self.last_epoch}\"\n",
    "                )\n",
    "            if self.counter >= self.patience:\n",
    "                print(f\"Early stopping on Epoch {self.last_epoch}\")\n",
    "                self.early_stop = True\n",
    "        self.last_epoch += 1"
   ]
  },
  {
   "cell_type": "code",
   "execution_count": 15,
   "metadata": {
    "id": "L9r109qAWBiv"
   },
   "outputs": [],
   "source": [
    "def train_epoch(\n",
    "    model,\n",
    "    data_loader,\n",
    "    optimizer,\n",
    "    criterion,\n",
    "    scale,\n",
    "    return_losses=False,\n",
    "    device=\"cuda:0\",\n",
    "):\n",
    "    # Передвинем модель на выбранный ускоритель\n",
    "    model = model.to(device).train()\n",
    "    total_loss = 0\n",
    "    num_batches = 0\n",
    "    all_losses = []\n",
    "    with tqdm(total=len(data_loader), file=sys.stdout) as prbar:\n",
    "        for obj, ans in data_loader:\n",
    "            # Туда же закинем объекты и ответы\n",
    "            obj = obj.to(device)\n",
    "            ans = ans.to(device)\n",
    "            predicted = model(obj)\n",
    "            loss = criterion(predicted.view(ans.size()[0]), ans)\n",
    "            # Обновим веса\n",
    "            loss.backward()\n",
    "            optimizer.step()\n",
    "            optimizer.zero_grad()\n",
    "            # Обновим инфу\n",
    "            prbar.set_description(f\"Loss: {round(np.sqrt(loss.item()) * scale, 4)} \")\n",
    "            prbar.update(1)\n",
    "            total_loss += loss.item()\n",
    "            num_batches += 1\n",
    "            all_losses.append(loss.detach().item() * scale)\n",
    "    metrics = {\"loss\": np.sqrt(total_loss / num_batches) * scale}\n",
    "    if return_losses:\n",
    "        return metrics, all_losses\n",
    "    else:\n",
    "        return metrics\n",
    "\n",
    "\n",
    "def valid(model, data_loader, criterion, scale, device=\"cuda:0\"):\n",
    "    model = model.eval()\n",
    "    total_loss = 0\n",
    "    num_batches = 0\n",
    "    for obj, ans in data_loader:\n",
    "        obj = obj.to(device)\n",
    "        ans = ans.to(device)\n",
    "        predicted = model(obj)\n",
    "        loss = criterion(predicted.view(ans.size()[0]), ans)\n",
    "        total_loss += loss.item()\n",
    "        num_batches += 1\n",
    "    metrics = {\"loss\": np.sqrt(total_loss / num_batches) * scale}\n",
    "    return metrics\n",
    "\n",
    "\n",
    "def test(model, data_loader, criterion, scale, device=\"cuda:0\"):\n",
    "    model = model.eval()\n",
    "    total_loss = 0\n",
    "    num_batches = 0\n",
    "    for obj, ans in data_loader:\n",
    "        obj = obj.to(device)\n",
    "        ans = ans.to(device)\n",
    "        predicted = model(obj)\n",
    "        loss = criterion(predicted.view(ans.size()[0]), ans)\n",
    "        total_loss += loss.item()\n",
    "        num_batches += 1\n",
    "    metrics = {\"loss\": np.sqrt(total_loss / num_batches) * scale}\n",
    "    return metrics"
   ]
  },
  {
   "cell_type": "code",
   "execution_count": 16,
   "metadata": {
    "id": "SmaUw6uBWvDd"
   },
   "outputs": [],
   "source": [
    "def fit(\n",
    "    model,\n",
    "    epochs,\n",
    "    train_data_loader,\n",
    "    validation_data_loader,\n",
    "    test_data_loader,\n",
    "    optimizer,\n",
    "    scheduler,\n",
    "    earlystopping,\n",
    "    criterion,\n",
    "    scale,\n",
    "    desired_loss,\n",
    "    device=\"cuda:0\",\n",
    "):\n",
    "    all_train_losses = []\n",
    "    epoch_train_losses = []\n",
    "    epoch_eval_losses = []\n",
    "    epoch_test_losses = []\n",
    "    for epoch in range(epochs):\n",
    "        print(f\"Train Epoch: {epoch}\")\n",
    "        train_metrics, one_epoch_train_losses = train_epoch(\n",
    "            model=model,\n",
    "            data_loader=train_data_loader,\n",
    "            optimizer=optimizer,\n",
    "            return_losses=True,\n",
    "            criterion=criterion,\n",
    "            scale=scale,\n",
    "            device=device,\n",
    "        )\n",
    "        print(\"loss:\", np.round(train_metrics[\"loss\"], 4), end=\" \")\n",
    "        # Save Train losses\n",
    "        all_train_losses.extend(one_epoch_train_losses)\n",
    "        epoch_train_losses.append(train_metrics[\"loss\"])\n",
    "        # Мal step\n",
    "        with torch.no_grad():\n",
    "            validation_metrics = valid(\n",
    "                model=model,\n",
    "                data_loader=validation_data_loader,\n",
    "                criterion=criterion,\n",
    "                scale=scale,\n",
    "                device=device,\n",
    "            )\n",
    "        # Save val losses\n",
    "        print(\"val_loss:\", np.round(validation_metrics[\"loss\"], 4), end=\" \")\n",
    "        epoch_eval_losses.append(validation_metrics[\"loss\"])\n",
    "        # Test step\n",
    "        with torch.no_grad():\n",
    "            test_metrics = test(\n",
    "                model=model,\n",
    "                data_loader=test_data_loader,\n",
    "                criterion=criterion,\n",
    "                scale=scale,\n",
    "                device=device,\n",
    "            )\n",
    "        # Save test losses\n",
    "        print(\"test_loss:\", np.round(test_metrics[\"loss\"], 4))\n",
    "        epoch_test_losses.append(test_metrics[\"loss\"])\n",
    "        scheduler.step(validation_metrics[\"loss\"])\n",
    "        earlystopping(validation_metrics[\"loss\"])\n",
    "        if earlystopping.early_stop:\n",
    "            break\n",
    "        # Бог мой нам разрешили делать и такие костыли:\n",
    "        if test_metrics[\"loss\"] <= desired_loss:\n",
    "            break\n",
    "    fig, ax = plt.subplots(ncols=2, figsize=(20, 8))\n",
    "    ax[0].plot(all_train_losses, label=\"Train loss\")\n",
    "    ax[0].set_title(\"Побатчевый лосс (для галочки)\")\n",
    "    ax[0].set_xlabel(\"Номер батча\")\n",
    "    ax[0].set_ylabel(\"RMSE\")\n",
    "    ax[0].grid()\n",
    "    ax[0].legend()\n",
    "    ax[1].plot(epoch_train_losses, label=\"Train loss\")\n",
    "    ax[1].plot(epoch_eval_losses, label=\"Validation loss\")\n",
    "    ax[1].plot(epoch_test_losses, label=\"Test loss\")\n",
    "    ax[1].set_title(\"Поэпоховый лосс\")\n",
    "    ax[1].set_xlabel(\"Эпоха\")\n",
    "    ax[1].set_ylabel(\"RMSE\")\n",
    "    ax[1].grid()\n",
    "    ax[1].legend()\n",
    "    plt.show()"
   ]
  },
  {
   "cell_type": "code",
   "execution_count": 17,
   "metadata": {
    "id": "WGm0Mht6Xp0f"
   },
   "outputs": [],
   "source": [
    "inp_features = X_train.shape[1]\n",
    "\n",
    "model = nn.Sequential(\n",
    "    nn.Linear(inp_features, 200),\n",
    "    nn.LeakyReLU(),\n",
    "    nn.BatchNorm1d(200),\n",
    "    nn.Dropout(0.2),\n",
    "    nn.Linear(200, 100),\n",
    "    nn.LeakyReLU(),\n",
    "    nn.BatchNorm1d(100),\n",
    "    nn.Dropout(0.2),\n",
    "    nn.Linear(100, 50),\n",
    "    nn.LeakyReLU(),\n",
    "    nn.BatchNorm1d(50),\n",
    "    nn.Linear(50, 1),\n",
    ")\n",
    "criterion = nn.MSELoss()\n",
    "optimizer = torch.optim.Adam(model.parameters())\n",
    "scheduler = torch.optim.lr_scheduler.ReduceLROnPlateau(\n",
    "    optimizer, mode=\"min\", factor=0.5, patience=10, threshold=0.0001, verbose=True\n",
    ")\n",
    "early_stopping = EarlyStopping(patience=20)"
   ]
  },
  {
   "cell_type": "code",
   "execution_count": 18,
   "metadata": {
    "colab": {
     "base_uri": "https://localhost:8080/",
     "height": 324
    },
    "id": "GLDOAVRiYDso",
    "outputId": "d7c02ecb-5df2-4bc7-e51f-a39a58157f6b"
   },
   "outputs": [
    {
     "name": "stdout",
     "output_type": "stream",
     "text": [
      "Train Epoch: 0\n"
     ]
    },
    {
     "data": {
      "application/vnd.jupyter.widget-view+json": {
       "model_id": "ffcdf6f0baad4cc28d8c983702969644",
       "version_major": 2,
       "version_minor": 0
      },
      "text/plain": [
       "HBox(children=(HTML(value=''), FloatProgress(value=0.0, max=3261.0), HTML(value='')))"
      ]
     },
     "metadata": {},
     "output_type": "display_data"
    },
    {
     "name": "stdout",
     "output_type": "stream",
     "text": [
      "\n",
      "loss: 9.0477 val_loss: 8.7304 test_loss: 8.8824\n",
      "Train Epoch: 1\n"
     ]
    },
    {
     "data": {
      "application/vnd.jupyter.widget-view+json": {
       "model_id": "0f6033c992dd4d20af61b9723b8412ed",
       "version_major": 2,
       "version_minor": 0
      },
      "text/plain": [
       "HBox(children=(HTML(value=''), FloatProgress(value=0.0, max=3261.0), HTML(value='')))"
      ]
     },
     "metadata": {},
     "output_type": "display_data"
    },
    {
     "name": "stdout",
     "output_type": "stream",
     "text": [
      "\n",
      "loss: 8.8132 val_loss: 8.6555 test_loss: 8.8227\n",
      "Train Epoch: 2\n"
     ]
    },
    {
     "data": {
      "application/vnd.jupyter.widget-view+json": {
       "model_id": "1326ee645f1a48fea4cc34c8e4dd35cd",
       "version_major": 2,
       "version_minor": 0
      },
      "text/plain": [
       "HBox(children=(HTML(value=''), FloatProgress(value=0.0, max=3261.0), HTML(value='')))"
      ]
     },
     "metadata": {},
     "output_type": "display_data"
    },
    {
     "name": "stdout",
     "output_type": "stream",
     "text": [
      "\n",
      "loss: 8.7414 val_loss: 8.6128 test_loss: 8.7748\n",
      "Train Epoch: 3\n"
     ]
    },
    {
     "data": {
      "application/vnd.jupyter.widget-view+json": {
       "model_id": "c89d865212204b5a9753d37102ad2fe1",
       "version_major": 2,
       "version_minor": 0
      },
      "text/plain": [
       "HBox(children=(HTML(value=''), FloatProgress(value=0.0, max=3261.0), HTML(value='')))"
      ]
     },
     "metadata": {},
     "output_type": "display_data"
    },
    {
     "name": "stdout",
     "output_type": "stream",
     "text": [
      "\n",
      "loss: 8.6857 val_loss: 8.5517 test_loss: 8.7379\n"
     ]
    },
    {
     "data": {
      "image/png": "[encoded data removed]",
      "text/plain": [
       "<Figure size 1440x576 with 2 Axes>"
      ]
     },
     "metadata": {
      "needs_background": "light"
     },
     "output_type": "display_data"
    }
   ],
   "source": [
    "fit(\n",
    "    model,\n",
    "    1000,\n",
    "    train_loader,\n",
    "    valid_loader,\n",
    "    test_loader,\n",
    "    optimizer,\n",
    "    scheduler,\n",
    "    early_stopping,\n",
    "    criterion,\n",
    "    *scl_true.scale_,\n",
    "    desired_loss=8.75,\n",
    "    device=device,\n",
    ")"
   ]
  },
  {
   "cell_type": "code",
   "execution_count": 19,
   "metadata": {},
   "outputs": [
    {
     "name": "stdout",
     "output_type": "stream",
     "text": [
      "NN RMSE: 8.7379\n"
     ]
    }
   ],
   "source": [
    "test_metrics = test(\n",
    "    model=model,\n",
    "    data_loader=test_loader,\n",
    "    criterion=criterion,\n",
    "    scale=scl_true.scale_[0],\n",
    "    device=device,\n",
    ")\n",
    "print(\"NN RMSE:\", np.round(test_metrics[\"loss\"], 4))"
   ]
  },
  {
   "cell_type": "markdown",
   "metadata": {
    "id": "bine9EES6TIn"
   },
   "source": [
    "## Задание 2. (0 баллов, но при невыполнении максимум за все задание &mdash; 0 баллов)\n",
    "\n",
    "Напишите небольшой отчет о том, как вы добились полученного качества: какие средства использовали и какие эксперименты проводили. Подробно расскажите об архитектурах и значениях гиперпараметров, а также какие метрики на тесте они показывали. Чтобы отчет был зачтен, необходимо привести хотя бы 3 эксперимента."
   ]
  },
  {
   "cell_type": "markdown",
   "metadata": {},
   "source": [
    "Тут будет длинная повесть о моих действиях. <br>\n",
    "Сначала я был не очень умный и очень хотел целочисленные предикты от модели, поэтому вызывал round от предиктов. Так я получил красивый лосс в примерно 1999 на трейне, потому что округление вызывал не совсем там где надо и сильно не так как надо. Это была моя первая ванильная нейросеть с nn.Linear(90, 1). Когда я понял, что явно делаю что-то не то и поскейлил данные и убрал округление, я получил адекватный результат около 9.52 за 10 эпох и понял, что хочется жить хорошо и оставить что-то серьезное на ночь. Так я полез читать что для этого есть, увидел про EarlyStopping в TF, успел пожалеть, что его нет в pytorch (не исключаю, что просто не нашел) и пошел реализовывать свой с помощью гугла и рук. Так я получил классную штуку на будущее. Спать уже не хотелось, поэтому я запустил на 30 эпох на сеть такого вида, начитавшись гугла на тему MLP архитектуры:<br>\n",
    "nn.Linear(inp_features, 45),<br>\n",
    "nn.ReLU(),<br>\n",
    "nn.BatchNorm1d(45),<br>\n",
    "nn.Dropout(0.15),<br>\n",
    "nn.Linear(45, 1),<br>\n",
    "RMSE упала до нечто похожего на 8.92 и я начал радоваться. Рано. Далее я начал экспериментировать с модельками, но уже утром следующего дня. Хотелось достичь заветных 8.77, гуглил дальше, стало понятно, что связка с релу (или лики релу), батчнормом и дропаутом в целом лучшее что есть, так что я на правильном пути. LeakyReLU я попробовал, но особой разницы не заметил вроде бы. Оставил его же. Следующий (третий уже) запомнившийся эксперимент включал как раз его:<br>\n",
    "nn.Linear(inp_features, 150),<br>\n",
    "nn.LeakyReLU(),<br>\n",
    "nn.BatchNorm1d(150),<br>\n",
    "nn.Dropout(0.1),<br>\n",
    "nn.Linear(150, 50),<br>\n",
    "nn.LeakyReLU(),<br>\n",
    "nn.BatchNorm1d(50),<br>\n",
    "nn.Dropout(0.1),<br>\n",
    "nn.Linear(50, 1),<br>\n",
    "Запомнился он тем, что на 6 эпохе был пробит порог и достигнуто 8.742! Дальше я просто игрался с моделькой и пытался получить  еще более крутой результат. Итогом стало:\n"
   ]
  },
  {
   "cell_type": "markdown",
   "metadata": {},
   "source": [
    "![Result](https://i.ibb.co/ThrRt5q/image.png)"
   ]
  },
  {
   "cell_type": "markdown",
   "metadata": {},
   "source": [
    "Архитектура там всё ещё выше и осталась :) Итого я вспомнил 4 эксперимета, надеюсь хватит :) Традиционный мем:"
   ]
  },
  {
   "cell_type": "markdown",
   "metadata": {},
   "source": [
    "![Meme](https://habrastorage.org/webt/8a/ph/qb/8aphqb_xrv3ynavkgmuex1ib8qo.jpeg)"
   ]
  }
 ],
 "metadata": {
  "accelerator": "GPU",
  "colab": {
   "collapsed_sections": [],
   "name": "homework-01.ipynb",
   "provenance": [],
   "toc_visible": true
  },
  "kernelspec": {
   "display_name": "Python 3",
   "language": "python",
   "name": "python3"
  },
  "language_info": {
   "codemirror_mode": {
    "name": "ipython",
    "version": 3
   },
   "file_extension": ".py",
   "mimetype": "text/x-python",
   "name": "python",
   "nbconvert_exporter": "python",
   "pygments_lexer": "ipython3",
   "version": "3.8.5"
  }
 },
 "nbformat": 4,
 "nbformat_minor": 1
}
