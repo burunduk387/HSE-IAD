{
 "cells": [
  {
   "cell_type": "code",
   "execution_count": 1,
   "metadata": {},
   "outputs": [],
   "source": [
    "import pandas as pd\n",
    "import numpy as np\n",
    "import gc\n",
    "import pickle\n",
    "np.random.seed(1)\n",
    "\n",
    "import nltk\n",
    "from nltk.corpus import stopwords\n",
    "import string\n",
    "\n",
    "from sklearn.feature_extraction.text import CountVectorizer\n",
    "from sklearn.svm import LinearSVC\n",
    "from sklearn.metrics import accuracy_score\n",
    "\n",
    "#Yep no stemmer"
   ]
  },
  {
   "cell_type": "code",
   "execution_count": 2,
   "metadata": {},
   "outputs": [
    {
     "name": "stdout",
     "output_type": "stream",
     "text": [
      "Wall time: 3min 32s\n"
     ]
    },
    {
     "data": {
      "text/plain": [
       "0"
      ]
     },
     "execution_count": 2,
     "metadata": {},
     "output_type": "execute_result"
    }
   ],
   "source": [
    "%%time\n",
    "train = pd.read_csv('avito-text-classification/train.csv')\n",
    "test = pd.read_csv('avito-text-classification/test.csv')\n",
    "train = train.fillna(\"\")\n",
    "test = test.fillna(\"\")\n",
    "train[\"title_description\"] = train[[\"title\", \"description\"]].agg(\" \".join, axis=1)\n",
    "test[\"title_description\"] = test[[\"title\", \"description\"]].agg(\" \".join, axis=1)\n",
    "train = train.drop([\"title\", \"description\"], axis=1)\n",
    "test = test.drop([\"title\", \"description\"], axis=1)\n",
    "gc.collect()"
   ]
  },
  {
   "cell_type": "code",
   "execution_count": 3,
   "metadata": {},
   "outputs": [],
   "source": [
    "def my_tokenizer(words):\n",
    "    stop_words = set(stopwords.words(\"russian\")) \n",
    "    return [w for w in nltk.word_tokenize(str(words)) if not ((w in stop_words) or (w[0] in string.punctuation) or (w[0].isnumeric()))] "
   ]
  },
  {
   "cell_type": "code",
   "execution_count": 4,
   "metadata": {},
   "outputs": [
    {
     "name": "stdout",
     "output_type": "stream",
     "text": [
      "Wall time: 17.4 s\n"
     ]
    },
    {
     "data": {
      "text/plain": [
       "40"
      ]
     },
     "execution_count": 4,
     "metadata": {},
     "output_type": "execute_result"
    }
   ],
   "source": [
    "%%time\n",
    "try:\n",
    "    with open('countvect1.pkl', 'rb') as fin:\n",
    "        cv = pickle.load(fin)\n",
    "except:\n",
    "    with open(\"countvect1.pkl\", 'wb') as fout:\n",
    "        cv = CountVectorizer(tokenizer=my_tokenizer, ngram_range=(1, 2))\n",
    "        cv.fit(train[\"title_description\"])\n",
    "        pickle.dump(cv, fout)\n",
    "gc.collect()"
   ]
  },
  {
   "cell_type": "code",
   "execution_count": 5,
   "metadata": {},
   "outputs": [
    {
     "name": "stdout",
     "output_type": "stream",
     "text": [
      "(4234042, 35124132)\n",
      "Wall time: 850 ms\n"
     ]
    },
    {
     "data": {
      "text/plain": [
       "20"
      ]
     },
     "execution_count": 5,
     "metadata": {},
     "output_type": "execute_result"
    }
   ],
   "source": [
    "%%time\n",
    "try:\n",
    "    with open('x_counts1.pkl', 'rb') as fin:\n",
    "        X_counts = pickle.load(fin)\n",
    "except:\n",
    "    with open(\"x_counts1.pkl\", 'wb') as fout:\n",
    "        X_counts = cv.transform(train[\"title_description\"])\n",
    "        pickle.dump(X_counts, fout)\n",
    "\n",
    "        \n",
    "            \n",
    "print(X_counts.shape)\n",
    "gc.collect()"
   ]
  },
  {
   "cell_type": "code",
   "execution_count": 6,
   "metadata": {},
   "outputs": [
    {
     "name": "stdout",
     "output_type": "stream",
     "text": [
      "Wall time: 8h 8min 16s\n"
     ]
    },
    {
     "data": {
      "text/plain": [
       "20"
      ]
     },
     "execution_count": 6,
     "metadata": {},
     "output_type": "execute_result"
    }
   ],
   "source": [
    "%%time\n",
    "try:\n",
    "    with open('model_1.pkl', 'rb') as fin:\n",
    "        model = pickle.load(fin)\n",
    "except FileNotFoundError:\n",
    "    with open(\"model_1.pkl\", 'wb') as fout:\n",
    "        model = LinearSVC(max_iter=1000000, class_weight=\"balanced\", C=0.1)\n",
    "        model.fit(X_counts, train[\"Category\"])\n",
    "        pickle.dump(model, fout)\n",
    "gc.collect()"
   ]
  },
  {
   "cell_type": "code",
   "execution_count": 7,
   "metadata": {},
   "outputs": [
    {
     "name": "stdout",
     "output_type": "stream",
     "text": [
      "0.980310776322011\n",
      "Wall time: 28.1 s\n"
     ]
    },
    {
     "data": {
      "text/plain": [
       "20"
      ]
     },
     "execution_count": 7,
     "metadata": {},
     "output_type": "execute_result"
    }
   ],
   "source": [
    "%%time\n",
    "y_pred = model.predict(X_counts)\n",
    "acc = accuracy_score(train[\"Category\"], y_pred)\n",
    "print(acc)\n",
    "gc.collect()"
   ]
  },
  {
   "cell_type": "code",
   "execution_count": 8,
   "metadata": {},
   "outputs": [
    {
     "name": "stdout",
     "output_type": "stream",
     "text": [
      "Wall time: 10.6 s\n"
     ]
    }
   ],
   "source": [
    "%%time\n",
    "try:\n",
    "    with open('x_test1.pkl', 'rb') as fin:\n",
    "        X_tests = pickle.load(fin)\n",
    "except FileNotFoundError:\n",
    "    with open(\"x_test1.pkl\", 'wb') as fout:\n",
    "        X_tests = cv.transform(test[\"title_description\"])\n",
    "        pickle.dump(X_tests, fout)\n",
    "output = model.predict(X_tests)\n",
    "data = pd.DataFrame()\n",
    "data[\"Id\"] = test[\"itemid\"]\n",
    "data[\"Category\"] = pd.Series(output)\n",
    "data.to_csv(\"prediction.csv\", index=False)"
   ]
  },
  {
   "cell_type": "code",
   "execution_count": 9,
   "metadata": {},
   "outputs": [
    {
     "data": {
      "text/plain": [
       "20"
      ]
     },
     "execution_count": 9,
     "metadata": {},
     "output_type": "execute_result"
    }
   ],
   "source": [
    "del test\n",
    "del train\n",
    "gc.collect()"
   ]
  },
  {
   "cell_type": "code",
   "execution_count": null,
   "metadata": {},
   "outputs": [],
   "source": []
  }
 ],
 "metadata": {
  "kernelspec": {
   "display_name": "Python 3",
   "language": "python",
   "name": "python3"
  },
  "language_info": {
   "codemirror_mode": {
    "name": "ipython",
    "version": 3
   },
   "file_extension": ".py",
   "mimetype": "text/x-python",
   "name": "python",
   "nbconvert_exporter": "python",
   "pygments_lexer": "ipython3",
   "version": "3.8.5"
  }
 },
 "nbformat": 4,
 "nbformat_minor": 4
}
